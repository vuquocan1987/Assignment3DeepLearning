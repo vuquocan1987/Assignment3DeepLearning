{
 "cells": [
  {
   "cell_type": "code",
   "execution_count": 74,
   "metadata": {},
   "outputs": [
    {
     "name": "stdout",
     "output_type": "stream",
     "text": [
      "[*********************100%%**********************]  1 of 1 completed\n",
      "[*********************100%%**********************]  1 of 1 completed\n",
      "[*********************100%%**********************]  1 of 1 completed\n",
      "[*********************100%%**********************]  1 of 1 completed\n",
      "[*********************100%%**********************]  1 of 1 completed\n",
      "[*********************100%%**********************]  1 of 1 completed\n",
      "[*********************100%%**********************]  1 of 1 completed\n",
      "[*********************100%%**********************]  1 of 1 completed\n",
      "[*********************100%%**********************]  1 of 1 completed\n",
      "[*********************100%%**********************]  1 of 1 completed\n"
     ]
    }
   ],
   "source": [
    "import numpy as np\n",
    "import pandas as pd\n",
    "from pandas_datareader import data as web\n",
    "from sklearn.preprocessing import MinMaxScaler\n",
    "from keras.models import Sequential\n",
    "from keras.layers import Dense, LSTM, GRU, SimpleRNN\n",
    "from keras.callbacks import EarlyStopping, ModelCheckpoint\n",
    "from keras.models import load_model\n",
    "import math\n",
    "import yfinance as yf\n",
    "import matplotlib.pyplot as plt\n",
    "\n",
    "yf.pdr_override()\n",
    "\n",
    "def create_dataset(dataset, look_back=30):\n",
    "    x, y = [], []\n",
    "    for i in range(look_back, len(dataset)):\n",
    "        x.append(dataset[i-look_back:i, 0])\n",
    "        y.append(dataset[i, 0])\n",
    "    return np.array(x), np.array(y)\n",
    "\n",
    "# stock ticker list\n",
    "# , \"PEP\",\"MCD\",\"AMZN\",\"MSFT\",\"GOOG\",\"META\",\"PG\",\"KO\",\"NKE\"\n",
    "tickers = [\"AAPL\",\"PEP\",\"MCD\",\"AMZN\",\"MSFT\",\"GOOG\",\"META\",\"PG\",\"KO\",\"NKE\"]\n",
    "start_date = \"2015-01-01\"\n",
    "end_date = \"2023-12-12\"\n",
    "\n",
    "def get_stock_data(tickers):\n",
    "    dfs = []\n",
    "    for ticker in tickers:\n",
    "        df = web.get_data_yahoo(ticker, start=start_date, end=end_date)\n",
    "        dfs.append(df)\n",
    "    return dfs\n",
    "\n",
    "dfs = get_stock_data(tickers)"
   ]
  },
  {
   "cell_type": "code",
   "execution_count": 75,
   "metadata": {},
   "outputs": [],
   "source": [
    "# add new residual column\n",
    "for df in dfs:\n",
    "    df['Residual'] = (df['Close'] - df['Open']) / df['Open']\n",
    "# define \n"
   ]
  },
  {
   "cell_type": "code",
   "execution_count": 59,
   "metadata": {},
   "outputs": [
    {
     "name": "stdout",
     "output_type": "stream",
     "text": [
      "[*********************100%%**********************]  1 of 1 completed\n",
      "[*********************100%%**********************]  1 of 1 completed\n",
      "[*********************100%%**********************]  1 of 1 completed\n",
      "[*********************100%%**********************]  1 of 1 completed\n",
      "[*********************100%%**********************]  1 of 1 completed\n",
      "[*********************100%%**********************]  1 of 1 completed\n",
      "[*********************100%%**********************]  1 of 1 completed\n",
      "[*********************100%%**********************]  1 of 1 completed\n",
      "[*********************100%%**********************]  1 of 1 completed\n",
      "[*********************100%%**********************]  1 of 1 completed\n"
     ]
    }
   ],
   "source": [
    "def create_dataset(dataset, look_back=30):\n",
    "    x, y = [], []\n",
    "    for i in range(look_back, len(dataset)):\n",
    "        x.append(dataset[i-look_back:i, 0])\n",
    "        y.append(dataset[i, 0])\n",
    "    return np.array(x), np.array(y)\n",
    "\n",
    "# stock ticker list\n",
    "tickers = [\"AAPL\", \"PEP\",\"MCD\",\"AMZN\",\"MSFT\",\"GOOG\",\"META\",\"PG\",\"KO\",\"NKE\"]\n",
    "start_date = \"2015-01-01\"\n",
    "end_date = \"2023-12-12\"\n",
    "\n",
    "def get_stock_data(tickers):\n",
    "    dfs = []\n",
    "    for ticker in tickers:\n",
    "        df = web.get_data_yahoo(ticker, start=start_date, end=end_date)\n",
    "        dfs.append(df)\n",
    "\n",
    "get_stock_data(tickers)"
   ]
  },
  {
   "cell_type": "code",
   "execution_count": 56,
   "metadata": {},
   "outputs": [],
   "source": [
    "features_list = [['Open', 'High', 'Low', 'Close', 'Volume', 'Adj Close','Residual'],['Residual'],['Open','Residual'], ['Residual','Open','High','Low']]\n",
    "model_list = ['LSTM','GRU','RNN']\n",
    "window_sizes = [15,30]\n"
   ]
  },
  {
   "cell_type": "code",
   "execution_count": 57,
   "metadata": {},
   "outputs": [],
   "source": [
    "import itertools\n",
    "import pickle\n",
    "def creat_model(model_name, windown_size, feature_len):\n",
    "    model = Sequential()\n",
    "    if model_name == 'LSTM':\n",
    "        model.add(LSTM(128, input_shape=(windown_size, feature_len),return_sequences=True))\n",
    "        model.add(LSTM(128, return_sequences=False))\n",
    "    elif model_name == 'GRU':\n",
    "        model.add(GRU(128, input_shape=(windown_size, feature_len),return_sequences=True))\n",
    "        model.add(GRU(128, return_sequences=False))\n",
    "    elif model_name == 'RNN':\n",
    "        model.add(SimpleRNN(128, input_shape=(windown_size, feature_len), return_sequences=True))\n",
    "        model.add(SimpleRNN(128, return_sequences=False))\n",
    "    else:\n",
    "        print('Model name is not correct')\n",
    "    model.add(Dense(1))\n",
    "    model.compile(optimizer='adam', loss='mse')\n",
    "    return model\n",
    "\n",
    "def create_dataset(dataset, window_size, target_column_index):\n",
    "    data_x, data_y = [], []\n",
    "    for i in range(window_size, len(dataset) - 1):  # Adjusted range to avoid going out of bounds\n",
    "        data_x.append(dataset[i - window_size:i, :])\n",
    "        data_y.append(dataset[i + 1, target_column_index])  # Target is the next time step\n",
    "    return np.array(data_x), np.array(data_y)\n",
    "\n",
    "\n",
    "\n",
    "def pre_processing(df, features, window_size, target_column):\n",
    "    # Ensure the target column is in the features list\n",
    "    if target_column not in features:\n",
    "        raise ValueError(f\"Target column {target_column} is not in the features list\")\n",
    "\n",
    "    # Convert DataFrame to numpy array\n",
    "    dataset = df[features].values.astype('float32')\n",
    "\n",
    "    # Normalize the dataset\n",
    "    scaler = MinMaxScaler(feature_range=(0, 1))\n",
    "    dataset = scaler.fit_transform(dataset)\n",
    "\n",
    "    # Get the index of the target column\n",
    "    target_column_index = features.index(target_column)\n",
    "\n",
    "    # Split into train and test sets\n",
    "    train_size = int(len(dataset) * 0.8)\n",
    "    train, test = dataset[0:train_size, :], dataset[train_size:len(dataset), :]\n",
    "\n",
    "    # Create datasets for training and testing\n",
    "    train_x, train_y = create_dataset(train, window_size, target_column_index)\n",
    "    test_x, test_y = create_dataset(test, window_size, target_column_index)\n",
    "\n",
    "    return train_x, train_y, test_x, test_y, scaler\n",
    "\n",
    "def train_model(features_list, model_list, window_sizes,dfs):\n",
    "    combinations = list(itertools.product(features_list, model_list, window_sizes,enumerate(dfs)))\n",
    "    for combination in combinations:\n",
    "        features = combination[0]\n",
    "        model_name = combination[1]\n",
    "        window_size = combination[2]\n",
    "        df_index, df= combination[3]\n",
    "        saved_model_name = f\"{model_name}_{window_size}_{features}_{df_index}\"\n",
    "        model = creat_model(model_name, window_size, len(features))\n",
    "        train_x, train_y, test_x, test_y, scaler = pre_processing(df, features, window_size,'Residual')\n",
    "        print(train_x.shape, train_y.shape, test_x.shape, test_y.shape)\n",
    "        # early stopping\n",
    "        es = EarlyStopping(monitor='val_loss', mode='min', verbose=1, patience=10)\n",
    "        mc = ModelCheckpoint(saved_model_name, monitor='val_loss', mode='min', verbose=1, save_best_only=True)\n",
    "        history = model.fit(train_x, train_y, epochs=5, batch_size=16, validation_split=0.2, callbacks=[es, mc])\n",
    "\n",
    "        # pickle history\n",
    "        pickle.dump(history, open(f\"{saved_model_name}_history.pkl\", 'wb'))\n"
   ]
  },
  {
   "cell_type": "code",
   "execution_count": 58,
   "metadata": {},
   "outputs": [
    {
     "name": "stdout",
     "output_type": "stream",
     "text": [
      "(1772, 15, 7) (1772,) (432, 15, 7) (432,)\n",
      "Epoch 1/5\n",
      "82/89 [==========================>...] - ETA: 0s - loss: 0.0128\n",
      "Epoch 1: val_loss improved from inf to 0.01502, saving model to LSTM_15_['Open', 'High', 'Low', 'Close', 'Volume', 'Adj Close', 'Residual']_0\n",
      "INFO:tensorflow:Assets written to: LSTM_15_['Open', 'High', 'Low', 'Close', 'Volume', 'Adj Close', 'Residual']_0/assets\n"
     ]
    },
    {
     "name": "stderr",
     "output_type": "stream",
     "text": [
      "INFO:tensorflow:Assets written to: LSTM_15_['Open', 'High', 'Low', 'Close', 'Volume', 'Adj Close', 'Residual']_0/assets\n"
     ]
    },
    {
     "name": "stdout",
     "output_type": "stream",
     "text": [
      "89/89 [==============================] - 10s 78ms/step - loss: 0.0125 - val_loss: 0.0150\n",
      "Epoch 2/5\n",
      "80/89 [=========================>....] - ETA: 0s - loss: 0.0077\n",
      "Epoch 2: val_loss improved from 0.01502 to 0.01146, saving model to LSTM_15_['Open', 'High', 'Low', 'Close', 'Volume', 'Adj Close', 'Residual']_0\n",
      "INFO:tensorflow:Assets written to: LSTM_15_['Open', 'High', 'Low', 'Close', 'Volume', 'Adj Close', 'Residual']_0/assets\n"
     ]
    },
    {
     "name": "stderr",
     "output_type": "stream",
     "text": [
      "INFO:tensorflow:Assets written to: LSTM_15_['Open', 'High', 'Low', 'Close', 'Volume', 'Adj Close', 'Residual']_0/assets\n"
     ]
    },
    {
     "name": "stdout",
     "output_type": "stream",
     "text": [
      "89/89 [==============================] - 6s 71ms/step - loss: 0.0077 - val_loss: 0.0115\n",
      "Epoch 3/5\n",
      "86/89 [===========================>..] - ETA: 0s - loss: 0.0077\n",
      "Epoch 3: val_loss did not improve from 0.01146\n",
      "89/89 [==============================] - 0s 4ms/step - loss: 0.0076 - val_loss: 0.0259\n",
      "Epoch 4/5\n",
      "84/89 [===========================>..] - ETA: 0s - loss: 0.0077\n",
      "Epoch 4: val_loss did not improve from 0.01146\n",
      "89/89 [==============================] - 0s 4ms/step - loss: 0.0075 - val_loss: 0.0144\n",
      "Epoch 5/5\n",
      "87/89 [============================>.] - ETA: 0s - loss: 0.0077\n",
      "Epoch 5: val_loss did not improve from 0.01146\n",
      "89/89 [==============================] - 0s 4ms/step - loss: 0.0077 - val_loss: 0.0132\n",
      "(1757, 30, 7) (1757,) (417, 30, 7) (417,)\n",
      "Epoch 1/5\n",
      "86/88 [============================>.] - ETA: 0s - loss: 0.0160\n",
      "Epoch 1: val_loss improved from inf to 0.01311, saving model to LSTM_30_['Open', 'High', 'Low', 'Close', 'Volume', 'Adj Close', 'Residual']_0\n",
      "INFO:tensorflow:Assets written to: LSTM_30_['Open', 'High', 'Low', 'Close', 'Volume', 'Adj Close', 'Residual']_0/assets\n"
     ]
    },
    {
     "name": "stderr",
     "output_type": "stream",
     "text": [
      "INFO:tensorflow:Assets written to: LSTM_30_['Open', 'High', 'Low', 'Close', 'Volume', 'Adj Close', 'Residual']_0/assets\n"
     ]
    },
    {
     "name": "stdout",
     "output_type": "stream",
     "text": [
      "88/88 [==============================] - 10s 80ms/step - loss: 0.0158 - val_loss: 0.0131\n",
      "Epoch 2/5\n",
      "86/88 [============================>.] - ETA: 0s - loss: 0.0077\n",
      "Epoch 2: val_loss improved from 0.01311 to 0.00935, saving model to LSTM_30_['Open', 'High', 'Low', 'Close', 'Volume', 'Adj Close', 'Residual']_0\n",
      "INFO:tensorflow:Assets written to: LSTM_30_['Open', 'High', 'Low', 'Close', 'Volume', 'Adj Close', 'Residual']_0/assets\n"
     ]
    },
    {
     "name": "stderr",
     "output_type": "stream",
     "text": [
      "INFO:tensorflow:Assets written to: LSTM_30_['Open', 'High', 'Low', 'Close', 'Volume', 'Adj Close', 'Residual']_0/assets\n"
     ]
    },
    {
     "name": "stdout",
     "output_type": "stream",
     "text": [
      "88/88 [==============================] - 6s 71ms/step - loss: 0.0076 - val_loss: 0.0094\n",
      "Epoch 3/5\n",
      "88/88 [==============================] - ETA: 0s - loss: 0.0075\n",
      "Epoch 3: val_loss did not improve from 0.00935\n",
      "88/88 [==============================] - 0s 5ms/step - loss: 0.0075 - val_loss: 0.0101\n",
      "Epoch 4/5\n",
      "76/88 [========================>.....] - ETA: 0s - loss: 0.0074\n",
      "Epoch 4: val_loss improved from 0.00935 to 0.00913, saving model to LSTM_30_['Open', 'High', 'Low', 'Close', 'Volume', 'Adj Close', 'Residual']_0\n",
      "INFO:tensorflow:Assets written to: LSTM_30_['Open', 'High', 'Low', 'Close', 'Volume', 'Adj Close', 'Residual']_0/assets\n"
     ]
    },
    {
     "name": "stderr",
     "output_type": "stream",
     "text": [
      "INFO:tensorflow:Assets written to: LSTM_30_['Open', 'High', 'Low', 'Close', 'Volume', 'Adj Close', 'Residual']_0/assets\n"
     ]
    },
    {
     "name": "stdout",
     "output_type": "stream",
     "text": [
      "88/88 [==============================] - 6s 70ms/step - loss: 0.0075 - val_loss: 0.0091\n",
      "Epoch 5/5\n",
      "83/88 [===========================>..] - ETA: 0s - loss: 0.0074\n",
      "Epoch 5: val_loss did not improve from 0.00913\n",
      "88/88 [==============================] - 0s 5ms/step - loss: 0.0074 - val_loss: 0.0095\n",
      "(1772, 15, 7) (1772,) (432, 15, 7) (432,)\n",
      "Epoch 1/5\n",
      "75/89 [========================>.....] - ETA: 0s - loss: 0.0182\n",
      "Epoch 1: val_loss improved from inf to 0.00886, saving model to GRU_15_['Open', 'High', 'Low', 'Close', 'Volume', 'Adj Close', 'Residual']_0\n",
      "INFO:tensorflow:Assets written to: GRU_15_['Open', 'High', 'Low', 'Close', 'Volume', 'Adj Close', 'Residual']_0/assets\n"
     ]
    },
    {
     "name": "stderr",
     "output_type": "stream",
     "text": [
      "INFO:tensorflow:Assets written to: GRU_15_['Open', 'High', 'Low', 'Close', 'Volume', 'Adj Close', 'Residual']_0/assets\n"
     ]
    },
    {
     "name": "stdout",
     "output_type": "stream",
     "text": [
      "89/89 [==============================] - 9s 70ms/step - loss: 0.0164 - val_loss: 0.0089\n",
      "Epoch 2/5\n",
      "75/89 [========================>.....] - ETA: 0s - loss: 0.0076\n",
      "Epoch 2: val_loss did not improve from 0.00886\n",
      "89/89 [==============================] - 0s 4ms/step - loss: 0.0078 - val_loss: 0.0089\n",
      "Epoch 3/5\n",
      "88/89 [============================>.] - ETA: 0s - loss: 0.0078\n",
      "Epoch 3: val_loss did not improve from 0.00886\n",
      "89/89 [==============================] - 0s 4ms/step - loss: 0.0078 - val_loss: 0.0101\n",
      "Epoch 4/5\n",
      "89/89 [==============================] - ETA: 0s - loss: 0.0076\n",
      "Epoch 4: val_loss did not improve from 0.00886\n",
      "89/89 [==============================] - 0s 4ms/step - loss: 0.0076 - val_loss: 0.0108\n",
      "Epoch 5/5\n",
      "75/89 [========================>.....] - ETA: 0s - loss: 0.0079\n",
      "Epoch 5: val_loss did not improve from 0.00886\n",
      "89/89 [==============================] - 0s 4ms/step - loss: 0.0078 - val_loss: 0.0098\n",
      "(1757, 30, 7) (1757,) (417, 30, 7) (417,)\n",
      "Epoch 1/5\n",
      "76/88 [========================>.....] - ETA: 0s - loss: 0.0157\n",
      "Epoch 1: val_loss improved from inf to 0.00883, saving model to GRU_30_['Open', 'High', 'Low', 'Close', 'Volume', 'Adj Close', 'Residual']_0\n",
      "INFO:tensorflow:Assets written to: GRU_30_['Open', 'High', 'Low', 'Close', 'Volume', 'Adj Close', 'Residual']_0/assets\n"
     ]
    },
    {
     "name": "stderr",
     "output_type": "stream",
     "text": [
      "INFO:tensorflow:Assets written to: GRU_30_['Open', 'High', 'Low', 'Close', 'Volume', 'Adj Close', 'Residual']_0/assets\n"
     ]
    },
    {
     "name": "stdout",
     "output_type": "stream",
     "text": [
      "88/88 [==============================] - 9s 70ms/step - loss: 0.0144 - val_loss: 0.0088\n",
      "Epoch 2/5\n",
      "77/88 [=========================>....] - ETA: 0s - loss: 0.0077\n",
      "Epoch 2: val_loss did not improve from 0.00883\n",
      "88/88 [==============================] - 0s 5ms/step - loss: 0.0076 - val_loss: 0.0107\n",
      "Epoch 3/5\n",
      "79/88 [=========================>....] - ETA: 0s - loss: 0.0082\n",
      "Epoch 3: val_loss did not improve from 0.00883\n",
      "88/88 [==============================] - 0s 5ms/step - loss: 0.0084 - val_loss: 0.0093\n",
      "Epoch 4/5\n",
      "81/88 [==========================>...] - ETA: 0s - loss: 0.0081\n",
      "Epoch 4: val_loss did not improve from 0.00883\n",
      "88/88 [==============================] - 0s 5ms/step - loss: 0.0078 - val_loss: 0.0089\n",
      "Epoch 5/5\n",
      "80/88 [==========================>...] - ETA: 0s - loss: 0.0073\n",
      "Epoch 5: val_loss did not improve from 0.00883\n",
      "88/88 [==============================] - 0s 5ms/step - loss: 0.0074 - val_loss: 0.0140\n",
      "(1772, 15, 7) (1772,) (432, 15, 7) (432,)\n",
      "Epoch 1/5\n",
      "85/89 [===========================>..] - ETA: 0s - loss: 0.0693\n",
      "Epoch 1: val_loss improved from inf to 0.00922, saving model to RNN_15_['Open', 'High', 'Low', 'Close', 'Volume', 'Adj Close', 'Residual']_0\n",
      "INFO:tensorflow:Assets written to: RNN_15_['Open', 'High', 'Low', 'Close', 'Volume', 'Adj Close', 'Residual']_0/assets\n"
     ]
    },
    {
     "name": "stderr",
     "output_type": "stream",
     "text": [
      "INFO:tensorflow:Assets written to: RNN_15_['Open', 'High', 'Low', 'Close', 'Volume', 'Adj Close', 'Residual']_0/assets\n"
     ]
    },
    {
     "name": "stdout",
     "output_type": "stream",
     "text": [
      "89/89 [==============================] - 5s 41ms/step - loss: 0.0668 - val_loss: 0.0092\n",
      "Epoch 2/5\n",
      "85/89 [===========================>..] - ETA: 0s - loss: 0.0092\n",
      "Epoch 2: val_loss did not improve from 0.00922\n",
      "89/89 [==============================] - 1s 12ms/step - loss: 0.0091 - val_loss: 0.0128\n",
      "Epoch 3/5\n",
      "86/89 [===========================>..] - ETA: 0s - loss: 0.0084\n",
      "Epoch 3: val_loss did not improve from 0.00922\n",
      "89/89 [==============================] - 1s 12ms/step - loss: 0.0086 - val_loss: 0.0107\n",
      "Epoch 4/5\n",
      "86/89 [===========================>..] - ETA: 0s - loss: 0.0087\n",
      "Epoch 4: val_loss improved from 0.00922 to 0.00905, saving model to RNN_15_['Open', 'High', 'Low', 'Close', 'Volume', 'Adj Close', 'Residual']_0\n",
      "INFO:tensorflow:Assets written to: RNN_15_['Open', 'High', 'Low', 'Close', 'Volume', 'Adj Close', 'Residual']_0/assets\n"
     ]
    },
    {
     "name": "stderr",
     "output_type": "stream",
     "text": [
      "INFO:tensorflow:Assets written to: RNN_15_['Open', 'High', 'Low', 'Close', 'Volume', 'Adj Close', 'Residual']_0/assets\n"
     ]
    },
    {
     "name": "stdout",
     "output_type": "stream",
     "text": [
      "89/89 [==============================] - 3s 38ms/step - loss: 0.0087 - val_loss: 0.0090\n",
      "Epoch 5/5\n",
      "85/89 [===========================>..] - ETA: 0s - loss: 0.0102\n",
      "Epoch 5: val_loss did not improve from 0.00905\n",
      "89/89 [==============================] - 1s 12ms/step - loss: 0.0103 - val_loss: 0.0105\n",
      "(1757, 30, 7) (1757,) (417, 30, 7) (417,)\n",
      "Epoch 1/5\n",
      "87/88 [============================>.] - ETA: 0s - loss: 0.0443\n",
      "Epoch 1: val_loss improved from inf to 0.02395, saving model to RNN_30_['Open', 'High', 'Low', 'Close', 'Volume', 'Adj Close', 'Residual']_0\n",
      "INFO:tensorflow:Assets written to: RNN_30_['Open', 'High', 'Low', 'Close', 'Volume', 'Adj Close', 'Residual']_0/assets\n"
     ]
    },
    {
     "name": "stderr",
     "output_type": "stream",
     "text": [
      "INFO:tensorflow:Assets written to: RNN_30_['Open', 'High', 'Low', 'Close', 'Volume', 'Adj Close', 'Residual']_0/assets\n"
     ]
    },
    {
     "name": "stdout",
     "output_type": "stream",
     "text": [
      "88/88 [==============================] - 6s 51ms/step - loss: 0.0439 - val_loss: 0.0239\n",
      "Epoch 2/5\n",
      "88/88 [==============================] - ETA: 0s - loss: 0.0093\n",
      "Epoch 2: val_loss improved from 0.02395 to 0.01679, saving model to RNN_30_['Open', 'High', 'Low', 'Close', 'Volume', 'Adj Close', 'Residual']_0\n",
      "INFO:tensorflow:Assets written to: RNN_30_['Open', 'High', 'Low', 'Close', 'Volume', 'Adj Close', 'Residual']_0/assets\n"
     ]
    },
    {
     "name": "stderr",
     "output_type": "stream",
     "text": [
      "INFO:tensorflow:Assets written to: RNN_30_['Open', 'High', 'Low', 'Close', 'Volume', 'Adj Close', 'Residual']_0/assets\n"
     ]
    },
    {
     "name": "stdout",
     "output_type": "stream",
     "text": [
      "88/88 [==============================] - 4s 47ms/step - loss: 0.0093 - val_loss: 0.0168\n",
      "Epoch 3/5\n",
      "88/88 [==============================] - ETA: 0s - loss: 0.0103\n",
      "Epoch 3: val_loss improved from 0.01679 to 0.00981, saving model to RNN_30_['Open', 'High', 'Low', 'Close', 'Volume', 'Adj Close', 'Residual']_0\n",
      "INFO:tensorflow:Assets written to: RNN_30_['Open', 'High', 'Low', 'Close', 'Volume', 'Adj Close', 'Residual']_0/assets\n"
     ]
    },
    {
     "name": "stderr",
     "output_type": "stream",
     "text": [
      "INFO:tensorflow:Assets written to: RNN_30_['Open', 'High', 'Low', 'Close', 'Volume', 'Adj Close', 'Residual']_0/assets\n"
     ]
    },
    {
     "name": "stdout",
     "output_type": "stream",
     "text": [
      "88/88 [==============================] - 4s 47ms/step - loss: 0.0103 - val_loss: 0.0098\n",
      "Epoch 4/5\n",
      "88/88 [==============================] - ETA: 0s - loss: 0.0090\n",
      "Epoch 4: val_loss did not improve from 0.00981\n",
      "88/88 [==============================] - 2s 21ms/step - loss: 0.0090 - val_loss: 0.0166\n",
      "Epoch 5/5\n",
      "88/88 [==============================] - ETA: 0s - loss: 0.0102\n",
      "Epoch 5: val_loss improved from 0.00981 to 0.00921, saving model to RNN_30_['Open', 'High', 'Low', 'Close', 'Volume', 'Adj Close', 'Residual']_0\n",
      "INFO:tensorflow:Assets written to: RNN_30_['Open', 'High', 'Low', 'Close', 'Volume', 'Adj Close', 'Residual']_0/assets\n"
     ]
    },
    {
     "name": "stderr",
     "output_type": "stream",
     "text": [
      "INFO:tensorflow:Assets written to: RNN_30_['Open', 'High', 'Low', 'Close', 'Volume', 'Adj Close', 'Residual']_0/assets\n"
     ]
    },
    {
     "name": "stdout",
     "output_type": "stream",
     "text": [
      "88/88 [==============================] - 4s 47ms/step - loss: 0.0102 - val_loss: 0.0092\n",
      "(1772, 15, 1) (1772,) (432, 15, 1) (432,)\n",
      "Epoch 1/5\n",
      "75/89 [========================>.....] - ETA: 0s - loss: 0.0145\n",
      "Epoch 1: val_loss improved from inf to 0.00881, saving model to LSTM_15_['Residual']_0\n",
      "INFO:tensorflow:Assets written to: LSTM_15_['Residual']_0/assets\n"
     ]
    },
    {
     "name": "stderr",
     "output_type": "stream",
     "text": [
      "INFO:tensorflow:Assets written to: LSTM_15_['Residual']_0/assets\n"
     ]
    },
    {
     "name": "stdout",
     "output_type": "stream",
     "text": [
      "89/89 [==============================] - 15s 139ms/step - loss: 0.0133 - val_loss: 0.0088\n",
      "Epoch 2/5\n",
      "87/89 [============================>.] - ETA: 0s - loss: 0.0076\n",
      "Epoch 2: val_loss did not improve from 0.00881\n",
      "89/89 [==============================] - 0s 4ms/step - loss: 0.0075 - val_loss: 0.0092\n",
      "Epoch 3/5\n",
      "86/89 [===========================>..] - ETA: 0s - loss: 0.0078\n",
      "Epoch 3: val_loss did not improve from 0.00881\n",
      "89/89 [==============================] - 0s 4ms/step - loss: 0.0078 - val_loss: 0.0095\n",
      "Epoch 4/5\n",
      "87/89 [============================>.] - ETA: 0s - loss: 0.0073\n",
      "Epoch 4: val_loss improved from 0.00881 to 0.00857, saving model to LSTM_15_['Residual']_0\n",
      "INFO:tensorflow:Assets written to: LSTM_15_['Residual']_0/assets\n"
     ]
    },
    {
     "name": "stderr",
     "output_type": "stream",
     "text": [
      "INFO:tensorflow:Assets written to: LSTM_15_['Residual']_0/assets\n"
     ]
    },
    {
     "name": "stdout",
     "output_type": "stream",
     "text": [
      "89/89 [==============================] - 6s 70ms/step - loss: 0.0075 - val_loss: 0.0086\n",
      "Epoch 5/5\n",
      "86/89 [===========================>..] - ETA: 0s - loss: 0.0074\n",
      "Epoch 5: val_loss did not improve from 0.00857\n",
      "89/89 [==============================] - 0s 4ms/step - loss: 0.0075 - val_loss: 0.0093\n",
      "(1757, 30, 1) (1757,) (417, 30, 1) (417,)\n",
      "Epoch 1/5\n",
      "85/88 [===========================>..] - ETA: 0s - loss: 0.0148\n",
      "Epoch 1: val_loss improved from inf to 0.00859, saving model to LSTM_30_['Residual']_0\n",
      "INFO:tensorflow:Assets written to: LSTM_30_['Residual']_0/assets\n"
     ]
    },
    {
     "name": "stderr",
     "output_type": "stream",
     "text": [
      "INFO:tensorflow:Assets written to: LSTM_30_['Residual']_0/assets\n"
     ]
    },
    {
     "name": "stdout",
     "output_type": "stream",
     "text": [
      "88/88 [==============================] - 10s 81ms/step - loss: 0.0145 - val_loss: 0.0086\n",
      "Epoch 2/5\n",
      "87/88 [============================>.] - ETA: 0s - loss: 0.0075\n",
      "Epoch 2: val_loss did not improve from 0.00859\n",
      "88/88 [==============================] - 0s 5ms/step - loss: 0.0075 - val_loss: 0.0087\n",
      "Epoch 3/5\n",
      "76/88 [========================>.....] - ETA: 0s - loss: 0.0077\n",
      "Epoch 3: val_loss did not improve from 0.00859\n",
      "88/88 [==============================] - 0s 5ms/step - loss: 0.0075 - val_loss: 0.0099\n",
      "Epoch 4/5\n",
      "79/88 [=========================>....] - ETA: 0s - loss: 0.0077\n",
      "Epoch 4: val_loss did not improve from 0.00859\n",
      "88/88 [==============================] - 0s 5ms/step - loss: 0.0077 - val_loss: 0.0087\n",
      "Epoch 5/5\n",
      "76/88 [========================>.....] - ETA: 0s - loss: 0.0072\n",
      "Epoch 5: val_loss did not improve from 0.00859\n",
      "88/88 [==============================] - 0s 5ms/step - loss: 0.0075 - val_loss: 0.0094\n",
      "(1772, 15, 1) (1772,) (432, 15, 1) (432,)\n",
      "Epoch 1/5\n",
      "89/89 [==============================] - ETA: 0s - loss: 0.0136\n",
      "Epoch 1: val_loss improved from inf to 0.00991, saving model to GRU_15_['Residual']_0\n",
      "INFO:tensorflow:Assets written to: GRU_15_['Residual']_0/assets\n"
     ]
    },
    {
     "name": "stderr",
     "output_type": "stream",
     "text": [
      "INFO:tensorflow:Assets written to: GRU_15_['Residual']_0/assets\n"
     ]
    },
    {
     "name": "stdout",
     "output_type": "stream",
     "text": [
      "89/89 [==============================] - 9s 69ms/step - loss: 0.0136 - val_loss: 0.0099\n",
      "Epoch 2/5\n",
      "89/89 [==============================] - ETA: 0s - loss: 0.0077\n",
      "Epoch 2: val_loss improved from 0.00991 to 0.00894, saving model to GRU_15_['Residual']_0\n",
      "INFO:tensorflow:Assets written to: GRU_15_['Residual']_0/assets\n"
     ]
    },
    {
     "name": "stderr",
     "output_type": "stream",
     "text": [
      "INFO:tensorflow:Assets written to: GRU_15_['Residual']_0/assets\n"
     ]
    },
    {
     "name": "stdout",
     "output_type": "stream",
     "text": [
      "89/89 [==============================] - 6s 63ms/step - loss: 0.0077 - val_loss: 0.0089\n",
      "Epoch 3/5\n",
      "75/89 [========================>.....] - ETA: 0s - loss: 0.0075\n",
      "Epoch 3: val_loss did not improve from 0.00894\n",
      "89/89 [==============================] - 0s 4ms/step - loss: 0.0076 - val_loss: 0.0094\n",
      "Epoch 4/5\n",
      "86/89 [===========================>..] - ETA: 0s - loss: 0.0076\n",
      "Epoch 4: val_loss did not improve from 0.00894\n",
      "89/89 [==============================] - 0s 4ms/step - loss: 0.0076 - val_loss: 0.0094\n",
      "Epoch 5/5\n",
      "76/89 [========================>.....] - ETA: 0s - loss: 0.0075\n",
      "Epoch 5: val_loss improved from 0.00894 to 0.00849, saving model to GRU_15_['Residual']_0\n",
      "INFO:tensorflow:Assets written to: GRU_15_['Residual']_0/assets\n"
     ]
    },
    {
     "name": "stderr",
     "output_type": "stream",
     "text": [
      "INFO:tensorflow:Assets written to: GRU_15_['Residual']_0/assets\n"
     ]
    },
    {
     "name": "stdout",
     "output_type": "stream",
     "text": [
      "89/89 [==============================] - 6s 63ms/step - loss: 0.0074 - val_loss: 0.0085\n",
      "(1757, 30, 1) (1757,) (417, 30, 1) (417,)\n",
      "Epoch 1/5\n",
      "76/88 [========================>.....] - ETA: 0s - loss: 0.0126\n",
      "Epoch 1: val_loss improved from inf to 0.00919, saving model to GRU_30_['Residual']_0\n",
      "INFO:tensorflow:Assets written to: GRU_30_['Residual']_0/assets\n"
     ]
    },
    {
     "name": "stderr",
     "output_type": "stream",
     "text": [
      "INFO:tensorflow:Assets written to: GRU_30_['Residual']_0/assets\n"
     ]
    },
    {
     "name": "stdout",
     "output_type": "stream",
     "text": [
      "88/88 [==============================] - 9s 71ms/step - loss: 0.0120 - val_loss: 0.0092\n",
      "Epoch 2/5\n",
      "86/88 [============================>.] - ETA: 0s - loss: 0.0082\n",
      "Epoch 2: val_loss did not improve from 0.00919\n",
      "88/88 [==============================] - 0s 5ms/step - loss: 0.0081 - val_loss: 0.0116\n",
      "Epoch 3/5\n",
      "77/88 [=========================>....] - ETA: 0s - loss: 0.0079\n",
      "Epoch 3: val_loss improved from 0.00919 to 0.00876, saving model to GRU_30_['Residual']_0\n",
      "INFO:tensorflow:Assets written to: GRU_30_['Residual']_0/assets\n"
     ]
    },
    {
     "name": "stderr",
     "output_type": "stream",
     "text": [
      "INFO:tensorflow:Assets written to: GRU_30_['Residual']_0/assets\n"
     ]
    },
    {
     "name": "stdout",
     "output_type": "stream",
     "text": [
      "88/88 [==============================] - 6s 64ms/step - loss: 0.0078 - val_loss: 0.0088\n",
      "Epoch 4/5\n",
      "76/88 [========================>.....] - ETA: 0s - loss: 0.0075\n",
      "Epoch 4: val_loss did not improve from 0.00876\n",
      "88/88 [==============================] - 0s 5ms/step - loss: 0.0075 - val_loss: 0.0090\n",
      "Epoch 5/5\n",
      "79/88 [=========================>....] - ETA: 0s - loss: 0.0071\n",
      "Epoch 5: val_loss improved from 0.00876 to 0.00842, saving model to GRU_30_['Residual']_0\n",
      "INFO:tensorflow:Assets written to: GRU_30_['Residual']_0/assets\n"
     ]
    },
    {
     "name": "stderr",
     "output_type": "stream",
     "text": [
      "INFO:tensorflow:Assets written to: GRU_30_['Residual']_0/assets\n"
     ]
    },
    {
     "name": "stdout",
     "output_type": "stream",
     "text": [
      "88/88 [==============================] - 6s 63ms/step - loss: 0.0073 - val_loss: 0.0084\n",
      "(1772, 15, 1) (1772,) (432, 15, 1) (432,)\n",
      "Epoch 1/5\n",
      "86/89 [===========================>..] - ETA: 0s - loss: 0.0643\n",
      "Epoch 1: val_loss improved from inf to 0.00876, saving model to RNN_15_['Residual']_0\n",
      "INFO:tensorflow:Assets written to: RNN_15_['Residual']_0/assets\n"
     ]
    },
    {
     "name": "stderr",
     "output_type": "stream",
     "text": [
      "INFO:tensorflow:Assets written to: RNN_15_['Residual']_0/assets\n"
     ]
    },
    {
     "name": "stdout",
     "output_type": "stream",
     "text": [
      "89/89 [==============================] - 5s 41ms/step - loss: 0.0627 - val_loss: 0.0088\n",
      "Epoch 2/5\n",
      "89/89 [==============================] - ETA: 0s - loss: 0.0078\n",
      "Epoch 2: val_loss did not improve from 0.00876\n",
      "89/89 [==============================] - 1s 13ms/step - loss: 0.0078 - val_loss: 0.0108\n",
      "Epoch 3/5\n",
      "89/89 [==============================] - ETA: 0s - loss: 0.0086\n",
      "Epoch 3: val_loss did not improve from 0.00876\n",
      "89/89 [==============================] - 1s 13ms/step - loss: 0.0086 - val_loss: 0.0107\n",
      "Epoch 4/5\n",
      "86/89 [===========================>..] - ETA: 0s - loss: 0.0087\n",
      "Epoch 4: val_loss did not improve from 0.00876\n",
      "89/89 [==============================] - 1s 13ms/step - loss: 0.0087 - val_loss: 0.0094\n",
      "Epoch 5/5\n",
      "85/89 [===========================>..] - ETA: 0s - loss: 0.0080\n",
      "Epoch 5: val_loss improved from 0.00876 to 0.00873, saving model to RNN_15_['Residual']_0\n",
      "INFO:tensorflow:Assets written to: RNN_15_['Residual']_0/assets\n"
     ]
    },
    {
     "name": "stderr",
     "output_type": "stream",
     "text": [
      "INFO:tensorflow:Assets written to: RNN_15_['Residual']_0/assets\n"
     ]
    },
    {
     "name": "stdout",
     "output_type": "stream",
     "text": [
      "89/89 [==============================] - 3s 38ms/step - loss: 0.0080 - val_loss: 0.0087\n",
      "(1757, 30, 1) (1757,) (417, 30, 1) (417,)\n",
      "Epoch 1/5\n",
      "88/88 [==============================] - ETA: 0s - loss: 0.0609\n",
      "Epoch 1: val_loss improved from inf to 0.00877, saving model to RNN_30_['Residual']_0\n",
      "INFO:tensorflow:Assets written to: RNN_30_['Residual']_0/assets\n"
     ]
    },
    {
     "name": "stderr",
     "output_type": "stream",
     "text": [
      "INFO:tensorflow:Assets written to: RNN_30_['Residual']_0/assets\n"
     ]
    },
    {
     "name": "stdout",
     "output_type": "stream",
     "text": [
      "88/88 [==============================] - 6s 50ms/step - loss: 0.0609 - val_loss: 0.0088\n",
      "Epoch 2/5\n",
      "88/88 [==============================] - ETA: 0s - loss: 0.0085\n",
      "Epoch 2: val_loss did not improve from 0.00877\n",
      "88/88 [==============================] - 2s 21ms/step - loss: 0.0085 - val_loss: 0.0092\n",
      "Epoch 3/5\n",
      "88/88 [==============================] - ETA: 0s - loss: 0.0081\n",
      "Epoch 3: val_loss did not improve from 0.00877\n",
      "88/88 [==============================] - 2s 21ms/step - loss: 0.0081 - val_loss: 0.0101\n",
      "Epoch 4/5\n",
      "88/88 [==============================] - ETA: 0s - loss: 0.0083\n",
      "Epoch 4: val_loss did not improve from 0.00877\n",
      "88/88 [==============================] - 2s 21ms/step - loss: 0.0083 - val_loss: 0.0115\n",
      "Epoch 5/5\n",
      "88/88 [==============================] - ETA: 0s - loss: 0.0088\n",
      "Epoch 5: val_loss did not improve from 0.00877\n",
      "88/88 [==============================] - 2s 21ms/step - loss: 0.0088 - val_loss: 0.0104\n",
      "(1772, 15, 2) (1772,) (432, 15, 2) (432,)\n",
      "Epoch 1/5\n",
      "84/89 [===========================>..] - ETA: 0s - loss: 0.0150\n",
      "Epoch 1: val_loss improved from inf to 0.00866, saving model to LSTM_15_['Open', 'Residual']_0\n",
      "INFO:tensorflow:Assets written to: LSTM_15_['Open', 'Residual']_0/assets\n"
     ]
    },
    {
     "name": "stderr",
     "output_type": "stream",
     "text": [
      "INFO:tensorflow:Assets written to: LSTM_15_['Open', 'Residual']_0/assets\n"
     ]
    },
    {
     "name": "stdout",
     "output_type": "stream",
     "text": [
      "89/89 [==============================] - 10s 78ms/step - loss: 0.0146 - val_loss: 0.0087\n",
      "Epoch 2/5\n",
      "84/89 [===========================>..] - ETA: 0s - loss: 0.0074\n",
      "Epoch 2: val_loss did not improve from 0.00866\n",
      "89/89 [==============================] - 0s 4ms/step - loss: 0.0074 - val_loss: 0.0134\n",
      "Epoch 3/5\n",
      "79/89 [=========================>....] - ETA: 0s - loss: 0.0079\n",
      "Epoch 3: val_loss improved from 0.00866 to 0.00861, saving model to LSTM_15_['Open', 'Residual']_0\n",
      "INFO:tensorflow:Assets written to: LSTM_15_['Open', 'Residual']_0/assets\n"
     ]
    },
    {
     "name": "stderr",
     "output_type": "stream",
     "text": [
      "INFO:tensorflow:Assets written to: LSTM_15_['Open', 'Residual']_0/assets\n"
     ]
    },
    {
     "name": "stdout",
     "output_type": "stream",
     "text": [
      "89/89 [==============================] - 6s 69ms/step - loss: 0.0077 - val_loss: 0.0086\n",
      "Epoch 4/5\n",
      "84/89 [===========================>..] - ETA: 0s - loss: 0.0075\n",
      "Epoch 4: val_loss did not improve from 0.00861\n",
      "89/89 [==============================] - 0s 4ms/step - loss: 0.0076 - val_loss: 0.0089\n",
      "Epoch 5/5\n",
      "82/89 [==========================>...] - ETA: 0s - loss: 0.0077\n",
      "Epoch 5: val_loss did not improve from 0.00861\n",
      "89/89 [==============================] - 0s 5ms/step - loss: 0.0076 - val_loss: 0.0093\n",
      "(1757, 30, 2) (1757,) (417, 30, 2) (417,)\n",
      "Epoch 1/5\n",
      "87/88 [============================>.] - ETA: 0s - loss: 0.0147\n",
      "Epoch 1: val_loss improved from inf to 0.01104, saving model to LSTM_30_['Open', 'Residual']_0\n",
      "INFO:tensorflow:Assets written to: LSTM_30_['Open', 'Residual']_0/assets\n"
     ]
    },
    {
     "name": "stderr",
     "output_type": "stream",
     "text": [
      "INFO:tensorflow:Assets written to: LSTM_30_['Open', 'Residual']_0/assets\n"
     ]
    },
    {
     "name": "stdout",
     "output_type": "stream",
     "text": [
      "88/88 [==============================] - 10s 78ms/step - loss: 0.0146 - val_loss: 0.0110\n",
      "Epoch 2/5\n",
      "88/88 [==============================] - ETA: 0s - loss: 0.0075\n",
      "Epoch 2: val_loss improved from 0.01104 to 0.00873, saving model to LSTM_30_['Open', 'Residual']_0\n",
      "INFO:tensorflow:Assets written to: LSTM_30_['Open', 'Residual']_0/assets\n"
     ]
    },
    {
     "name": "stderr",
     "output_type": "stream",
     "text": [
      "INFO:tensorflow:Assets written to: LSTM_30_['Open', 'Residual']_0/assets\n"
     ]
    },
    {
     "name": "stdout",
     "output_type": "stream",
     "text": [
      "88/88 [==============================] - 6s 71ms/step - loss: 0.0075 - val_loss: 0.0087\n",
      "Epoch 3/5\n",
      "88/88 [==============================] - ETA: 0s - loss: 0.0075\n",
      "Epoch 3: val_loss improved from 0.00873 to 0.00861, saving model to LSTM_30_['Open', 'Residual']_0\n",
      "INFO:tensorflow:Assets written to: LSTM_30_['Open', 'Residual']_0/assets\n"
     ]
    },
    {
     "name": "stderr",
     "output_type": "stream",
     "text": [
      "INFO:tensorflow:Assets written to: LSTM_30_['Open', 'Residual']_0/assets\n"
     ]
    },
    {
     "name": "stdout",
     "output_type": "stream",
     "text": [
      "88/88 [==============================] - 6s 71ms/step - loss: 0.0075 - val_loss: 0.0086\n",
      "Epoch 4/5\n",
      "86/88 [============================>.] - ETA: 0s - loss: 0.0077\n",
      "Epoch 4: val_loss did not improve from 0.00861\n",
      "88/88 [==============================] - 0s 5ms/step - loss: 0.0076 - val_loss: 0.0115\n",
      "Epoch 5/5\n",
      "77/88 [=========================>....] - ETA: 0s - loss: 0.0075\n",
      "Epoch 5: val_loss did not improve from 0.00861\n",
      "88/88 [==============================] - 0s 5ms/step - loss: 0.0076 - val_loss: 0.0089\n",
      "(1772, 15, 2) (1772,) (432, 15, 2) (432,)\n",
      "Epoch 1/5\n",
      "88/89 [============================>.] - ETA: 0s - loss: 0.0134\n",
      "Epoch 1: val_loss improved from inf to 0.00876, saving model to GRU_15_['Open', 'Residual']_0\n",
      "INFO:tensorflow:Assets written to: GRU_15_['Open', 'Residual']_0/assets\n"
     ]
    },
    {
     "name": "stderr",
     "output_type": "stream",
     "text": [
      "INFO:tensorflow:Assets written to: GRU_15_['Open', 'Residual']_0/assets\n"
     ]
    },
    {
     "name": "stdout",
     "output_type": "stream",
     "text": [
      "89/89 [==============================] - 9s 69ms/step - loss: 0.0134 - val_loss: 0.0088\n",
      "Epoch 2/5\n",
      "75/89 [========================>.....] - ETA: 0s - loss: 0.0082\n",
      "Epoch 2: val_loss improved from 0.00876 to 0.00872, saving model to GRU_15_['Open', 'Residual']_0\n",
      "INFO:tensorflow:Assets written to: GRU_15_['Open', 'Residual']_0/assets\n"
     ]
    },
    {
     "name": "stderr",
     "output_type": "stream",
     "text": [
      "INFO:tensorflow:Assets written to: GRU_15_['Open', 'Residual']_0/assets\n"
     ]
    },
    {
     "name": "stdout",
     "output_type": "stream",
     "text": [
      "89/89 [==============================] - 6s 63ms/step - loss: 0.0079 - val_loss: 0.0087\n",
      "Epoch 3/5\n",
      "89/89 [==============================] - ETA: 0s - loss: 0.0080\n",
      "Epoch 3: val_loss did not improve from 0.00872\n",
      "89/89 [==============================] - 0s 4ms/step - loss: 0.0080 - val_loss: 0.0098\n",
      "Epoch 4/5\n",
      "88/89 [============================>.] - ETA: 0s - loss: 0.0074\n",
      "Epoch 4: val_loss improved from 0.00872 to 0.00858, saving model to GRU_15_['Open', 'Residual']_0\n",
      "INFO:tensorflow:Assets written to: GRU_15_['Open', 'Residual']_0/assets\n"
     ]
    },
    {
     "name": "stderr",
     "output_type": "stream",
     "text": [
      "INFO:tensorflow:Assets written to: GRU_15_['Open', 'Residual']_0/assets\n"
     ]
    },
    {
     "name": "stdout",
     "output_type": "stream",
     "text": [
      "89/89 [==============================] - 6s 63ms/step - loss: 0.0076 - val_loss: 0.0086\n",
      "Epoch 5/5\n",
      "89/89 [==============================] - ETA: 0s - loss: 0.0074\n",
      "Epoch 5: val_loss did not improve from 0.00858\n",
      "89/89 [==============================] - 0s 4ms/step - loss: 0.0074 - val_loss: 0.0129\n",
      "(1757, 30, 2) (1757,) (417, 30, 2) (417,)\n",
      "Epoch 1/5\n",
      "78/88 [=========================>....] - ETA: 0s - loss: 0.0128\n",
      "Epoch 1: val_loss improved from inf to 0.00877, saving model to GRU_30_['Open', 'Residual']_0\n",
      "INFO:tensorflow:Assets written to: GRU_30_['Open', 'Residual']_0/assets\n"
     ]
    },
    {
     "name": "stderr",
     "output_type": "stream",
     "text": [
      "INFO:tensorflow:Assets written to: GRU_30_['Open', 'Residual']_0/assets\n"
     ]
    },
    {
     "name": "stdout",
     "output_type": "stream",
     "text": [
      "88/88 [==============================] - 9s 71ms/step - loss: 0.0121 - val_loss: 0.0088\n",
      "Epoch 2/5\n",
      "77/88 [=========================>....] - ETA: 0s - loss: 0.0076\n",
      "Epoch 2: val_loss did not improve from 0.00877\n",
      "88/88 [==============================] - 0s 5ms/step - loss: 0.0075 - val_loss: 0.0097\n",
      "Epoch 3/5\n",
      "79/88 [=========================>....] - ETA: 0s - loss: 0.0077\n",
      "Epoch 3: val_loss did not improve from 0.00877\n",
      "88/88 [==============================] - 0s 5ms/step - loss: 0.0081 - val_loss: 0.0141\n",
      "Epoch 4/5\n",
      "77/88 [=========================>....] - ETA: 0s - loss: 0.0082\n",
      "Epoch 4: val_loss did not improve from 0.00877\n",
      "88/88 [==============================] - 0s 5ms/step - loss: 0.0082 - val_loss: 0.0144\n",
      "Epoch 5/5\n",
      "79/88 [=========================>....] - ETA: 0s - loss: 0.0073\n",
      "Epoch 5: val_loss did not improve from 0.00877\n",
      "88/88 [==============================] - 0s 5ms/step - loss: 0.0075 - val_loss: 0.0092\n",
      "(1772, 15, 2) (1772,) (432, 15, 2) (432,)\n",
      "Epoch 1/5\n",
      "89/89 [==============================] - ETA: 0s - loss: 0.0773\n",
      "Epoch 1: val_loss improved from inf to 0.01057, saving model to RNN_15_['Open', 'Residual']_0\n",
      "INFO:tensorflow:Assets written to: RNN_15_['Open', 'Residual']_0/assets\n"
     ]
    },
    {
     "name": "stderr",
     "output_type": "stream",
     "text": [
      "INFO:tensorflow:Assets written to: RNN_15_['Open', 'Residual']_0/assets\n"
     ]
    },
    {
     "name": "stdout",
     "output_type": "stream",
     "text": [
      "89/89 [==============================] - 5s 42ms/step - loss: 0.0773 - val_loss: 0.0106\n",
      "Epoch 2/5\n",
      "87/89 [============================>.] - ETA: 0s - loss: 0.0086\n",
      "Epoch 2: val_loss improved from 0.01057 to 0.00999, saving model to RNN_15_['Open', 'Residual']_0\n",
      "INFO:tensorflow:Assets written to: RNN_15_['Open', 'Residual']_0/assets\n"
     ]
    },
    {
     "name": "stderr",
     "output_type": "stream",
     "text": [
      "INFO:tensorflow:Assets written to: RNN_15_['Open', 'Residual']_0/assets\n"
     ]
    },
    {
     "name": "stdout",
     "output_type": "stream",
     "text": [
      "89/89 [==============================] - 3s 39ms/step - loss: 0.0086 - val_loss: 0.0100\n",
      "Epoch 3/5\n",
      "85/89 [===========================>..] - ETA: 0s - loss: 0.0085\n",
      "Epoch 3: val_loss did not improve from 0.00999\n",
      "89/89 [==============================] - 1s 13ms/step - loss: 0.0085 - val_loss: 0.0102\n",
      "Epoch 4/5\n",
      "89/89 [==============================] - ETA: 0s - loss: 0.0087\n",
      "Epoch 4: val_loss improved from 0.00999 to 0.00930, saving model to RNN_15_['Open', 'Residual']_0\n",
      "INFO:tensorflow:Assets written to: RNN_15_['Open', 'Residual']_0/assets\n"
     ]
    },
    {
     "name": "stderr",
     "output_type": "stream",
     "text": [
      "INFO:tensorflow:Assets written to: RNN_15_['Open', 'Residual']_0/assets\n"
     ]
    },
    {
     "name": "stdout",
     "output_type": "stream",
     "text": [
      "89/89 [==============================] - 3s 38ms/step - loss: 0.0087 - val_loss: 0.0093\n",
      "Epoch 5/5\n",
      "89/89 [==============================] - ETA: 0s - loss: 0.0085\n",
      "Epoch 5: val_loss improved from 0.00930 to 0.00920, saving model to RNN_15_['Open', 'Residual']_0\n",
      "INFO:tensorflow:Assets written to: RNN_15_['Open', 'Residual']_0/assets\n"
     ]
    },
    {
     "name": "stderr",
     "output_type": "stream",
     "text": [
      "INFO:tensorflow:Assets written to: RNN_15_['Open', 'Residual']_0/assets\n"
     ]
    },
    {
     "name": "stdout",
     "output_type": "stream",
     "text": [
      "89/89 [==============================] - 3s 38ms/step - loss: 0.0085 - val_loss: 0.0092\n",
      "(1757, 30, 2) (1757,) (417, 30, 2) (417,)\n",
      "Epoch 1/5\n",
      "88/88 [==============================] - ETA: 0s - loss: 0.0439\n",
      "Epoch 1: val_loss improved from inf to 0.00973, saving model to RNN_30_['Open', 'Residual']_0\n",
      "INFO:tensorflow:Assets written to: RNN_30_['Open', 'Residual']_0/assets\n"
     ]
    },
    {
     "name": "stderr",
     "output_type": "stream",
     "text": [
      "INFO:tensorflow:Assets written to: RNN_30_['Open', 'Residual']_0/assets\n"
     ]
    },
    {
     "name": "stdout",
     "output_type": "stream",
     "text": [
      "88/88 [==============================] - 6s 50ms/step - loss: 0.0439 - val_loss: 0.0097\n",
      "Epoch 2/5\n",
      "88/88 [==============================] - ETA: 0s - loss: 0.0084\n",
      "Epoch 2: val_loss improved from 0.00973 to 0.00922, saving model to RNN_30_['Open', 'Residual']_0\n",
      "INFO:tensorflow:Assets written to: RNN_30_['Open', 'Residual']_0/assets\n"
     ]
    },
    {
     "name": "stderr",
     "output_type": "stream",
     "text": [
      "INFO:tensorflow:Assets written to: RNN_30_['Open', 'Residual']_0/assets\n"
     ]
    },
    {
     "name": "stdout",
     "output_type": "stream",
     "text": [
      "88/88 [==============================] - 10s 111ms/step - loss: 0.0084 - val_loss: 0.0092\n",
      "Epoch 3/5\n",
      "88/88 [==============================] - ETA: 0s - loss: 0.0078\n",
      "Epoch 3: val_loss did not improve from 0.00922\n",
      "88/88 [==============================] - 2s 21ms/step - loss: 0.0078 - val_loss: 0.0099\n",
      "Epoch 4/5\n",
      "88/88 [==============================] - ETA: 0s - loss: 0.0090\n",
      "Epoch 4: val_loss did not improve from 0.00922\n",
      "88/88 [==============================] - 2s 21ms/step - loss: 0.0090 - val_loss: 0.0164\n",
      "Epoch 5/5\n",
      "86/88 [============================>.] - ETA: 0s - loss: 0.0082\n",
      "Epoch 5: val_loss did not improve from 0.00922\n",
      "88/88 [==============================] - 2s 22ms/step - loss: 0.0084 - val_loss: 0.0121\n",
      "(1772, 15, 4) (1772,) (432, 15, 4) (432,)\n",
      "Epoch 1/5\n",
      "80/89 [=========================>....] - ETA: 0s - loss: 0.0149\n",
      "Epoch 1: val_loss improved from inf to 0.00903, saving model to LSTM_15_['Residual', 'Open', 'High', 'Low']_0\n",
      "INFO:tensorflow:Assets written to: LSTM_15_['Residual', 'Open', 'High', 'Low']_0/assets\n"
     ]
    },
    {
     "name": "stderr",
     "output_type": "stream",
     "text": [
      "INFO:tensorflow:Assets written to: LSTM_15_['Residual', 'Open', 'High', 'Low']_0/assets\n"
     ]
    },
    {
     "name": "stdout",
     "output_type": "stream",
     "text": [
      "89/89 [==============================] - 10s 75ms/step - loss: 0.0141 - val_loss: 0.0090\n",
      "Epoch 2/5\n",
      "80/89 [=========================>....] - ETA: 0s - loss: 0.0075\n",
      "Epoch 2: val_loss did not improve from 0.00903\n",
      "89/89 [==============================] - 0s 4ms/step - loss: 0.0076 - val_loss: 0.0136\n",
      "Epoch 3/5\n",
      "79/89 [=========================>....] - ETA: 0s - loss: 0.0077\n",
      "Epoch 3: val_loss did not improve from 0.00903\n",
      "89/89 [==============================] - 0s 4ms/step - loss: 0.0077 - val_loss: 0.0162\n",
      "Epoch 4/5\n",
      "79/89 [=========================>....] - ETA: 0s - loss: 0.0073\n",
      "Epoch 4: val_loss did not improve from 0.00903\n",
      "89/89 [==============================] - 0s 4ms/step - loss: 0.0075 - val_loss: 0.0100\n",
      "Epoch 5/5\n",
      "78/89 [=========================>....] - ETA: 0s - loss: 0.0072\n",
      "Epoch 5: val_loss did not improve from 0.00903\n",
      "89/89 [==============================] - 0s 4ms/step - loss: 0.0074 - val_loss: 0.0111\n",
      "(1757, 30, 4) (1757,) (417, 30, 4) (417,)\n",
      "Epoch 1/5\n",
      "79/88 [=========================>....] - ETA: 0s - loss: 0.0160\n",
      "Epoch 1: val_loss improved from inf to 0.00850, saving model to LSTM_30_['Residual', 'Open', 'High', 'Low']_0\n",
      "INFO:tensorflow:Assets written to: LSTM_30_['Residual', 'Open', 'High', 'Low']_0/assets\n"
     ]
    },
    {
     "name": "stderr",
     "output_type": "stream",
     "text": [
      "INFO:tensorflow:Assets written to: LSTM_30_['Residual', 'Open', 'High', 'Low']_0/assets\n"
     ]
    },
    {
     "name": "stdout",
     "output_type": "stream",
     "text": [
      "88/88 [==============================] - 10s 76ms/step - loss: 0.0153 - val_loss: 0.0085\n",
      "Epoch 2/5\n",
      "79/88 [=========================>....] - ETA: 0s - loss: 0.0073\n",
      "Epoch 2: val_loss did not improve from 0.00850\n",
      "88/88 [==============================] - 0s 5ms/step - loss: 0.0075 - val_loss: 0.0241\n",
      "Epoch 3/5\n",
      "80/88 [==========================>...] - ETA: 0s - loss: 0.0074\n",
      "Epoch 3: val_loss did not improve from 0.00850\n",
      "88/88 [==============================] - 0s 5ms/step - loss: 0.0075 - val_loss: 0.0087\n",
      "Epoch 4/5\n",
      "85/88 [===========================>..] - ETA: 0s - loss: 0.0079\n",
      "Epoch 4: val_loss did not improve from 0.00850\n",
      "88/88 [==============================] - 0s 4ms/step - loss: 0.0079 - val_loss: 0.0094\n",
      "Epoch 5/5\n",
      "84/88 [===========================>..] - ETA: 0s - loss: 0.0074\n",
      "Epoch 5: val_loss did not improve from 0.00850\n",
      "88/88 [==============================] - 0s 5ms/step - loss: 0.0075 - val_loss: 0.0095\n",
      "(1772, 15, 4) (1772,) (432, 15, 4) (432,)\n",
      "Epoch 1/5\n",
      "81/89 [==========================>...] - ETA: 0s - loss: 0.0142\n",
      "Epoch 1: val_loss improved from inf to 0.00880, saving model to GRU_15_['Residual', 'Open', 'High', 'Low']_0\n",
      "INFO:tensorflow:Assets written to: GRU_15_['Residual', 'Open', 'High', 'Low']_0/assets\n"
     ]
    },
    {
     "name": "stderr",
     "output_type": "stream",
     "text": [
      "INFO:tensorflow:Assets written to: GRU_15_['Residual', 'Open', 'High', 'Low']_0/assets\n"
     ]
    },
    {
     "name": "stdout",
     "output_type": "stream",
     "text": [
      "89/89 [==============================] - 9s 67ms/step - loss: 0.0136 - val_loss: 0.0088\n",
      "Epoch 2/5\n",
      "80/89 [=========================>....] - ETA: 0s - loss: 0.0079\n",
      "Epoch 2: val_loss did not improve from 0.00880\n",
      "89/89 [==============================] - 0s 4ms/step - loss: 0.0077 - val_loss: 0.0162\n",
      "Epoch 3/5\n",
      "79/89 [=========================>....] - ETA: 0s - loss: 0.0080\n",
      "Epoch 3: val_loss improved from 0.00880 to 0.00848, saving model to GRU_15_['Residual', 'Open', 'High', 'Low']_0\n",
      "INFO:tensorflow:Assets written to: GRU_15_['Residual', 'Open', 'High', 'Low']_0/assets\n"
     ]
    },
    {
     "name": "stderr",
     "output_type": "stream",
     "text": [
      "INFO:tensorflow:Assets written to: GRU_15_['Residual', 'Open', 'High', 'Low']_0/assets\n"
     ]
    },
    {
     "name": "stdout",
     "output_type": "stream",
     "text": [
      "89/89 [==============================] - 5s 60ms/step - loss: 0.0077 - val_loss: 0.0085\n",
      "Epoch 4/5\n",
      "80/89 [=========================>....] - ETA: 0s - loss: 0.0077\n",
      "Epoch 4: val_loss improved from 0.00848 to 0.00848, saving model to GRU_15_['Residual', 'Open', 'High', 'Low']_0\n",
      "INFO:tensorflow:Assets written to: GRU_15_['Residual', 'Open', 'High', 'Low']_0/assets\n"
     ]
    },
    {
     "name": "stderr",
     "output_type": "stream",
     "text": [
      "INFO:tensorflow:Assets written to: GRU_15_['Residual', 'Open', 'High', 'Low']_0/assets\n"
     ]
    },
    {
     "name": "stdout",
     "output_type": "stream",
     "text": [
      "89/89 [==============================] - 5s 60ms/step - loss: 0.0075 - val_loss: 0.0085\n",
      "Epoch 5/5\n",
      "78/89 [=========================>....] - ETA: 0s - loss: 0.0078\n",
      "Epoch 5: val_loss did not improve from 0.00848\n",
      "89/89 [==============================] - 0s 4ms/step - loss: 0.0078 - val_loss: 0.0115\n",
      "(1757, 30, 4) (1757,) (417, 30, 4) (417,)\n",
      "Epoch 1/5\n",
      "81/88 [==========================>...] - ETA: 0s - loss: 0.0137\n",
      "Epoch 1: val_loss improved from inf to 0.01046, saving model to GRU_30_['Residual', 'Open', 'High', 'Low']_0\n",
      "INFO:tensorflow:Assets written to: GRU_30_['Residual', 'Open', 'High', 'Low']_0/assets\n"
     ]
    },
    {
     "name": "stderr",
     "output_type": "stream",
     "text": [
      "INFO:tensorflow:Assets written to: GRU_30_['Residual', 'Open', 'High', 'Low']_0/assets\n"
     ]
    },
    {
     "name": "stdout",
     "output_type": "stream",
     "text": [
      "88/88 [==============================] - 9s 68ms/step - loss: 0.0133 - val_loss: 0.0105\n",
      "Epoch 2/5\n",
      "83/88 [===========================>..] - ETA: 0s - loss: 0.0078\n",
      "Epoch 2: val_loss did not improve from 0.01046\n",
      "88/88 [==============================] - 0s 4ms/step - loss: 0.0077 - val_loss: 0.0136\n",
      "Epoch 3/5\n",
      "84/88 [===========================>..] - ETA: 0s - loss: 0.0079\n",
      "Epoch 3: val_loss improved from 0.01046 to 0.00981, saving model to GRU_30_['Residual', 'Open', 'High', 'Low']_0\n",
      "INFO:tensorflow:Assets written to: GRU_30_['Residual', 'Open', 'High', 'Low']_0/assets\n"
     ]
    },
    {
     "name": "stderr",
     "output_type": "stream",
     "text": [
      "INFO:tensorflow:Assets written to: GRU_30_['Residual', 'Open', 'High', 'Low']_0/assets\n"
     ]
    },
    {
     "name": "stdout",
     "output_type": "stream",
     "text": [
      "88/88 [==============================] - 5s 61ms/step - loss: 0.0079 - val_loss: 0.0098\n",
      "Epoch 4/5\n",
      "77/88 [=========================>....] - ETA: 0s - loss: 0.0073\n",
      "Epoch 4: val_loss improved from 0.00981 to 0.00923, saving model to GRU_30_['Residual', 'Open', 'High', 'Low']_0\n",
      "INFO:tensorflow:Assets written to: GRU_30_['Residual', 'Open', 'High', 'Low']_0/assets\n"
     ]
    },
    {
     "name": "stderr",
     "output_type": "stream",
     "text": [
      "INFO:tensorflow:Assets written to: GRU_30_['Residual', 'Open', 'High', 'Low']_0/assets\n"
     ]
    },
    {
     "name": "stdout",
     "output_type": "stream",
     "text": [
      "88/88 [==============================] - 6s 65ms/step - loss: 0.0075 - val_loss: 0.0092\n",
      "Epoch 5/5\n",
      "76/88 [========================>.....] - ETA: 0s - loss: 0.0076\n",
      "Epoch 5: val_loss improved from 0.00923 to 0.00842, saving model to GRU_30_['Residual', 'Open', 'High', 'Low']_0\n",
      "INFO:tensorflow:Assets written to: GRU_30_['Residual', 'Open', 'High', 'Low']_0/assets\n"
     ]
    },
    {
     "name": "stderr",
     "output_type": "stream",
     "text": [
      "INFO:tensorflow:Assets written to: GRU_30_['Residual', 'Open', 'High', 'Low']_0/assets\n"
     ]
    },
    {
     "name": "stdout",
     "output_type": "stream",
     "text": [
      "88/88 [==============================] - 6s 64ms/step - loss: 0.0077 - val_loss: 0.0084\n",
      "(1772, 15, 4) (1772,) (432, 15, 4) (432,)\n",
      "Epoch 1/5\n",
      "86/89 [===========================>..] - ETA: 0s - loss: 0.0691\n",
      "Epoch 1: val_loss improved from inf to 0.00880, saving model to RNN_15_['Residual', 'Open', 'High', 'Low']_0\n",
      "INFO:tensorflow:Assets written to: RNN_15_['Residual', 'Open', 'High', 'Low']_0/assets\n"
     ]
    },
    {
     "name": "stderr",
     "output_type": "stream",
     "text": [
      "INFO:tensorflow:Assets written to: RNN_15_['Residual', 'Open', 'High', 'Low']_0/assets\n"
     ]
    },
    {
     "name": "stdout",
     "output_type": "stream",
     "text": [
      "89/89 [==============================] - 5s 41ms/step - loss: 0.0673 - val_loss: 0.0088\n",
      "Epoch 2/5\n",
      "89/89 [==============================] - ETA: 0s - loss: 0.0080\n",
      "Epoch 2: val_loss did not improve from 0.00880\n",
      "89/89 [==============================] - 1s 13ms/step - loss: 0.0080 - val_loss: 0.0091\n",
      "Epoch 3/5\n",
      "89/89 [==============================] - ETA: 0s - loss: 0.0081\n",
      "Epoch 3: val_loss did not improve from 0.00880\n",
      "89/89 [==============================] - 1s 13ms/step - loss: 0.0081 - val_loss: 0.0218\n",
      "Epoch 4/5\n",
      "86/89 [===========================>..] - ETA: 0s - loss: 0.0082\n",
      "Epoch 4: val_loss did not improve from 0.00880\n",
      "89/89 [==============================] - 1s 13ms/step - loss: 0.0083 - val_loss: 0.0100\n",
      "Epoch 5/5\n",
      "85/89 [===========================>..] - ETA: 0s - loss: 0.0090\n",
      "Epoch 5: val_loss did not improve from 0.00880\n",
      "89/89 [==============================] - 1s 12ms/step - loss: 0.0089 - val_loss: 0.0096\n",
      "(1757, 30, 4) (1757,) (417, 30, 4) (417,)\n",
      "Epoch 1/5\n",
      "88/88 [==============================] - ETA: 0s - loss: 0.0765\n",
      "Epoch 1: val_loss improved from inf to 0.01226, saving model to RNN_30_['Residual', 'Open', 'High', 'Low']_0\n",
      "INFO:tensorflow:Assets written to: RNN_30_['Residual', 'Open', 'High', 'Low']_0/assets\n"
     ]
    },
    {
     "name": "stderr",
     "output_type": "stream",
     "text": [
      "INFO:tensorflow:Assets written to: RNN_30_['Residual', 'Open', 'High', 'Low']_0/assets\n"
     ]
    },
    {
     "name": "stdout",
     "output_type": "stream",
     "text": [
      "88/88 [==============================] - 6s 49ms/step - loss: 0.0765 - val_loss: 0.0123\n",
      "Epoch 2/5\n",
      "88/88 [==============================] - ETA: 0s - loss: 0.0080\n",
      "Epoch 2: val_loss improved from 0.01226 to 0.00975, saving model to RNN_30_['Residual', 'Open', 'High', 'Low']_0\n",
      "INFO:tensorflow:Assets written to: RNN_30_['Residual', 'Open', 'High', 'Low']_0/assets\n"
     ]
    },
    {
     "name": "stderr",
     "output_type": "stream",
     "text": [
      "INFO:tensorflow:Assets written to: RNN_30_['Residual', 'Open', 'High', 'Low']_0/assets\n"
     ]
    },
    {
     "name": "stdout",
     "output_type": "stream",
     "text": [
      "88/88 [==============================] - 4s 47ms/step - loss: 0.0080 - val_loss: 0.0097\n",
      "Epoch 3/5\n",
      "88/88 [==============================] - ETA: 0s - loss: 0.0085\n",
      "Epoch 3: val_loss did not improve from 0.00975\n",
      "88/88 [==============================] - 2s 21ms/step - loss: 0.0085 - val_loss: 0.0114\n",
      "Epoch 4/5\n",
      "87/88 [============================>.] - ETA: 0s - loss: 0.0104\n",
      "Epoch 4: val_loss improved from 0.00975 to 0.00893, saving model to RNN_30_['Residual', 'Open', 'High', 'Low']_0\n",
      "INFO:tensorflow:Assets written to: RNN_30_['Residual', 'Open', 'High', 'Low']_0/assets\n"
     ]
    },
    {
     "name": "stderr",
     "output_type": "stream",
     "text": [
      "INFO:tensorflow:Assets written to: RNN_30_['Residual', 'Open', 'High', 'Low']_0/assets\n"
     ]
    },
    {
     "name": "stdout",
     "output_type": "stream",
     "text": [
      "88/88 [==============================] - 4s 46ms/step - loss: 0.0103 - val_loss: 0.0089\n",
      "Epoch 5/5\n",
      "88/88 [==============================] - ETA: 0s - loss: 0.0088\n",
      "Epoch 5: val_loss did not improve from 0.00893\n",
      "88/88 [==============================] - 2s 20ms/step - loss: 0.0088 - val_loss: 0.0090\n"
     ]
    }
   ],
   "source": [
    "train_model(features_list, model_list, window_sizes,dfs)"
   ]
  },
  {
   "cell_type": "code",
   "execution_count": 64,
   "metadata": {},
   "outputs": [
    {
     "data": {
      "text/html": [
       "<div>\n",
       "<style scoped>\n",
       "    .dataframe tbody tr th:only-of-type {\n",
       "        vertical-align: middle;\n",
       "    }\n",
       "\n",
       "    .dataframe tbody tr th {\n",
       "        vertical-align: top;\n",
       "    }\n",
       "\n",
       "    .dataframe thead th {\n",
       "        text-align: right;\n",
       "    }\n",
       "</style>\n",
       "<table border=\"1\" class=\"dataframe\">\n",
       "  <thead>\n",
       "    <tr style=\"text-align: right;\">\n",
       "      <th></th>\n",
       "      <th>Open</th>\n",
       "      <th>High</th>\n",
       "      <th>Low</th>\n",
       "      <th>Close</th>\n",
       "      <th>Adj Close</th>\n",
       "      <th>Volume</th>\n",
       "      <th>Residual</th>\n",
       "    </tr>\n",
       "    <tr>\n",
       "      <th>Date</th>\n",
       "      <th></th>\n",
       "      <th></th>\n",
       "      <th></th>\n",
       "      <th></th>\n",
       "      <th></th>\n",
       "      <th></th>\n",
       "      <th></th>\n",
       "    </tr>\n",
       "  </thead>\n",
       "  <tbody>\n",
       "    <tr>\n",
       "      <th>2015-01-02</th>\n",
       "      <td>27.847500</td>\n",
       "      <td>27.860001</td>\n",
       "      <td>26.837500</td>\n",
       "      <td>27.332500</td>\n",
       "      <td>24.466448</td>\n",
       "      <td>212818400</td>\n",
       "      <td>-0.018494</td>\n",
       "    </tr>\n",
       "    <tr>\n",
       "      <th>2015-01-05</th>\n",
       "      <td>27.072500</td>\n",
       "      <td>27.162500</td>\n",
       "      <td>26.352501</td>\n",
       "      <td>26.562500</td>\n",
       "      <td>23.777189</td>\n",
       "      <td>257142000</td>\n",
       "      <td>-0.018838</td>\n",
       "    </tr>\n",
       "    <tr>\n",
       "      <th>2015-01-06</th>\n",
       "      <td>26.635000</td>\n",
       "      <td>26.857500</td>\n",
       "      <td>26.157499</td>\n",
       "      <td>26.565001</td>\n",
       "      <td>23.779428</td>\n",
       "      <td>263188400</td>\n",
       "      <td>-0.002628</td>\n",
       "    </tr>\n",
       "    <tr>\n",
       "      <th>2015-01-07</th>\n",
       "      <td>26.799999</td>\n",
       "      <td>27.049999</td>\n",
       "      <td>26.674999</td>\n",
       "      <td>26.937500</td>\n",
       "      <td>24.112864</td>\n",
       "      <td>160423600</td>\n",
       "      <td>0.005131</td>\n",
       "    </tr>\n",
       "    <tr>\n",
       "      <th>2015-01-08</th>\n",
       "      <td>27.307501</td>\n",
       "      <td>28.037500</td>\n",
       "      <td>27.174999</td>\n",
       "      <td>27.972500</td>\n",
       "      <td>25.039337</td>\n",
       "      <td>237458000</td>\n",
       "      <td>0.024352</td>\n",
       "    </tr>\n",
       "    <tr>\n",
       "      <th>...</th>\n",
       "      <td>...</td>\n",
       "      <td>...</td>\n",
       "      <td>...</td>\n",
       "      <td>...</td>\n",
       "      <td>...</td>\n",
       "      <td>...</td>\n",
       "      <td>...</td>\n",
       "    </tr>\n",
       "    <tr>\n",
       "      <th>2023-11-13</th>\n",
       "      <td>185.820007</td>\n",
       "      <td>186.029999</td>\n",
       "      <td>184.210007</td>\n",
       "      <td>184.800003</td>\n",
       "      <td>184.800003</td>\n",
       "      <td>43627500</td>\n",
       "      <td>-0.005489</td>\n",
       "    </tr>\n",
       "    <tr>\n",
       "      <th>2023-11-14</th>\n",
       "      <td>187.699997</td>\n",
       "      <td>188.110001</td>\n",
       "      <td>186.300003</td>\n",
       "      <td>187.440002</td>\n",
       "      <td>187.440002</td>\n",
       "      <td>60108400</td>\n",
       "      <td>-0.001385</td>\n",
       "    </tr>\n",
       "    <tr>\n",
       "      <th>2023-11-15</th>\n",
       "      <td>187.850006</td>\n",
       "      <td>189.500000</td>\n",
       "      <td>187.779999</td>\n",
       "      <td>188.009995</td>\n",
       "      <td>188.009995</td>\n",
       "      <td>53790500</td>\n",
       "      <td>0.000852</td>\n",
       "    </tr>\n",
       "    <tr>\n",
       "      <th>2023-11-16</th>\n",
       "      <td>189.570007</td>\n",
       "      <td>190.960007</td>\n",
       "      <td>188.649994</td>\n",
       "      <td>189.710007</td>\n",
       "      <td>189.710007</td>\n",
       "      <td>54412900</td>\n",
       "      <td>0.000739</td>\n",
       "    </tr>\n",
       "    <tr>\n",
       "      <th>2023-11-17</th>\n",
       "      <td>190.250000</td>\n",
       "      <td>190.380005</td>\n",
       "      <td>188.570007</td>\n",
       "      <td>189.690002</td>\n",
       "      <td>189.690002</td>\n",
       "      <td>50922700</td>\n",
       "      <td>-0.002943</td>\n",
       "    </tr>\n",
       "  </tbody>\n",
       "</table>\n",
       "<p>2236 rows × 7 columns</p>\n",
       "</div>"
      ],
      "text/plain": [
       "                  Open        High         Low       Close   Adj Close  \\\n",
       "Date                                                                     \n",
       "2015-01-02   27.847500   27.860001   26.837500   27.332500   24.466448   \n",
       "2015-01-05   27.072500   27.162500   26.352501   26.562500   23.777189   \n",
       "2015-01-06   26.635000   26.857500   26.157499   26.565001   23.779428   \n",
       "2015-01-07   26.799999   27.049999   26.674999   26.937500   24.112864   \n",
       "2015-01-08   27.307501   28.037500   27.174999   27.972500   25.039337   \n",
       "...                ...         ...         ...         ...         ...   \n",
       "2023-11-13  185.820007  186.029999  184.210007  184.800003  184.800003   \n",
       "2023-11-14  187.699997  188.110001  186.300003  187.440002  187.440002   \n",
       "2023-11-15  187.850006  189.500000  187.779999  188.009995  188.009995   \n",
       "2023-11-16  189.570007  190.960007  188.649994  189.710007  189.710007   \n",
       "2023-11-17  190.250000  190.380005  188.570007  189.690002  189.690002   \n",
       "\n",
       "               Volume  Residual  \n",
       "Date                             \n",
       "2015-01-02  212818400 -0.018494  \n",
       "2015-01-05  257142000 -0.018838  \n",
       "2015-01-06  263188400 -0.002628  \n",
       "2015-01-07  160423600  0.005131  \n",
       "2015-01-08  237458000  0.024352  \n",
       "...               ...       ...  \n",
       "2023-11-13   43627500 -0.005489  \n",
       "2023-11-14   60108400 -0.001385  \n",
       "2023-11-15   53790500  0.000852  \n",
       "2023-11-16   54412900  0.000739  \n",
       "2023-11-17   50922700 -0.002943  \n",
       "\n",
       "[2236 rows x 7 columns]"
      ]
     },
     "execution_count": 64,
     "metadata": {},
     "output_type": "execute_result"
    }
   ],
   "source": [
    "df = dfs[0]\n",
    "df"
   ]
  },
  {
   "cell_type": "code",
   "execution_count": 78,
   "metadata": {},
   "outputs": [
    {
     "name": "stdout",
     "output_type": "stream",
     "text": [
      "Epoch 1/100\n",
      "49/49 [==============================] - 4s 18ms/step - loss: 0.0167 - val_loss: 0.0047\n",
      "Epoch 2/100\n",
      "49/49 [==============================] - 0s 4ms/step - loss: 0.0044 - val_loss: 0.0037\n",
      "Epoch 3/100\n",
      "49/49 [==============================] - 0s 4ms/step - loss: 0.0044 - val_loss: 0.0036\n",
      "Epoch 4/100\n",
      "49/49 [==============================] - 0s 4ms/step - loss: 0.0042 - val_loss: 0.0038\n",
      "Epoch 5/100\n",
      "49/49 [==============================] - 0s 4ms/step - loss: 0.0043 - val_loss: 0.0052\n",
      "Epoch 6/100\n",
      "49/49 [==============================] - 0s 4ms/step - loss: 0.0043 - val_loss: 0.0038\n",
      "Epoch 7/100\n",
      "49/49 [==============================] - 0s 4ms/step - loss: 0.0044 - val_loss: 0.0037\n",
      "Epoch 8/100\n",
      "49/49 [==============================] - 0s 4ms/step - loss: 0.0046 - val_loss: 0.0038\n",
      "Epoch 9/100\n",
      "49/49 [==============================] - 0s 4ms/step - loss: 0.0042 - val_loss: 0.0037\n",
      "Epoch 10/100\n",
      "49/49 [==============================] - 0s 4ms/step - loss: 0.0043 - val_loss: 0.0036\n",
      "Epoch 11/100\n",
      "49/49 [==============================] - 0s 4ms/step - loss: 0.0042 - val_loss: 0.0036\n",
      "Epoch 12/100\n",
      "49/49 [==============================] - 0s 4ms/step - loss: 0.0042 - val_loss: 0.0037\n",
      "Epoch 13/100\n",
      "49/49 [==============================] - 0s 4ms/step - loss: 0.0043 - val_loss: 0.0036\n",
      "Epoch 14/100\n",
      "49/49 [==============================] - 0s 4ms/step - loss: 0.0043 - val_loss: 0.0036\n",
      "Epoch 15/100\n",
      "49/49 [==============================] - 0s 4ms/step - loss: 0.0042 - val_loss: 0.0039\n",
      "Epoch 16/100\n",
      "49/49 [==============================] - 0s 4ms/step - loss: 0.0042 - val_loss: 0.0038\n",
      "Epoch 17/100\n",
      "49/49 [==============================] - 0s 4ms/step - loss: 0.0042 - val_loss: 0.0036\n",
      "Epoch 18/100\n",
      "49/49 [==============================] - 0s 4ms/step - loss: 0.0042 - val_loss: 0.0036\n",
      "Epoch 19/100\n",
      "49/49 [==============================] - 0s 4ms/step - loss: 0.0042 - val_loss: 0.0045\n",
      "Epoch 20/100\n",
      "49/49 [==============================] - 0s 4ms/step - loss: 0.0043 - val_loss: 0.0039\n",
      "Epoch 21/100\n",
      "49/49 [==============================] - 0s 4ms/step - loss: 0.0043 - val_loss: 0.0039\n",
      "Epoch 22/100\n",
      "49/49 [==============================] - 0s 4ms/step - loss: 0.0042 - val_loss: 0.0036\n",
      "Epoch 23/100\n",
      "49/49 [==============================] - 0s 4ms/step - loss: 0.0043 - val_loss: 0.0037\n",
      "Epoch 24/100\n",
      "49/49 [==============================] - 0s 4ms/step - loss: 0.0042 - val_loss: 0.0044\n",
      "Epoch 25/100\n",
      "49/49 [==============================] - 0s 4ms/step - loss: 0.0042 - val_loss: 0.0037\n",
      "Epoch 26/100\n",
      "49/49 [==============================] - 0s 4ms/step - loss: 0.0041 - val_loss: 0.0040\n",
      "Epoch 27/100\n",
      "49/49 [==============================] - 0s 4ms/step - loss: 0.0042 - val_loss: 0.0035\n",
      "Epoch 28/100\n",
      "49/49 [==============================] - 0s 4ms/step - loss: 0.0043 - val_loss: 0.0035\n",
      "Epoch 29/100\n",
      "49/49 [==============================] - 0s 4ms/step - loss: 0.0042 - val_loss: 0.0036\n",
      "Epoch 30/100\n",
      "49/49 [==============================] - 0s 4ms/step - loss: 0.0041 - val_loss: 0.0035\n",
      "Epoch 31/100\n",
      "49/49 [==============================] - 0s 4ms/step - loss: 0.0041 - val_loss: 0.0038\n",
      "Epoch 32/100\n",
      "49/49 [==============================] - 0s 4ms/step - loss: 0.0042 - val_loss: 0.0036\n",
      "Epoch 33/100\n",
      "49/49 [==============================] - 0s 4ms/step - loss: 0.0041 - val_loss: 0.0037\n",
      "Epoch 34/100\n",
      "49/49 [==============================] - 0s 4ms/step - loss: 0.0042 - val_loss: 0.0037\n",
      "Epoch 35/100\n",
      "49/49 [==============================] - 0s 4ms/step - loss: 0.0043 - val_loss: 0.0035\n",
      "Epoch 36/100\n",
      "49/49 [==============================] - 0s 5ms/step - loss: 0.0042 - val_loss: 0.0037\n",
      "Epoch 37/100\n",
      "49/49 [==============================] - 0s 4ms/step - loss: 0.0042 - val_loss: 0.0035\n",
      "Epoch 38/100\n",
      "49/49 [==============================] - 0s 4ms/step - loss: 0.0042 - val_loss: 0.0036\n",
      "Epoch 39/100\n",
      "49/49 [==============================] - 0s 4ms/step - loss: 0.0042 - val_loss: 0.0037\n",
      "Epoch 40/100\n",
      "49/49 [==============================] - 0s 4ms/step - loss: 0.0042 - val_loss: 0.0037\n",
      "Epoch 41/100\n",
      "49/49 [==============================] - 0s 4ms/step - loss: 0.0042 - val_loss: 0.0036\n",
      "Epoch 42/100\n",
      "49/49 [==============================] - 0s 4ms/step - loss: 0.0042 - val_loss: 0.0036\n",
      "Epoch 43/100\n",
      "49/49 [==============================] - 0s 4ms/step - loss: 0.0043 - val_loss: 0.0037\n",
      "Epoch 44/100\n",
      "49/49 [==============================] - 0s 4ms/step - loss: 0.0042 - val_loss: 0.0040\n",
      "Epoch 45/100\n",
      "49/49 [==============================] - 0s 4ms/step - loss: 0.0042 - val_loss: 0.0037\n",
      "Epoch 46/100\n",
      "49/49 [==============================] - 0s 4ms/step - loss: 0.0041 - val_loss: 0.0036\n",
      "Epoch 47/100\n",
      "49/49 [==============================] - 0s 5ms/step - loss: 0.0041 - val_loss: 0.0038\n",
      "Epoch 48/100\n",
      "49/49 [==============================] - 0s 4ms/step - loss: 0.0041 - val_loss: 0.0036\n",
      "Epoch 49/100\n",
      "49/49 [==============================] - 0s 4ms/step - loss: 0.0042 - val_loss: 0.0035\n",
      "Epoch 50/100\n",
      "49/49 [==============================] - 0s 4ms/step - loss: 0.0042 - val_loss: 0.0036\n",
      "Epoch 51/100\n",
      "49/49 [==============================] - 0s 4ms/step - loss: 0.0041 - val_loss: 0.0035\n",
      "Epoch 52/100\n",
      "49/49 [==============================] - 0s 4ms/step - loss: 0.0042 - val_loss: 0.0039\n",
      "Epoch 53/100\n",
      "49/49 [==============================] - 0s 4ms/step - loss: 0.0042 - val_loss: 0.0036\n",
      "Epoch 54/100\n",
      "49/49 [==============================] - 0s 4ms/step - loss: 0.0041 - val_loss: 0.0037\n",
      "Epoch 55/100\n",
      "49/49 [==============================] - 0s 4ms/step - loss: 0.0041 - val_loss: 0.0036\n",
      "Epoch 56/100\n",
      "49/49 [==============================] - 0s 4ms/step - loss: 0.0042 - val_loss: 0.0035\n",
      "Epoch 57/100\n",
      "49/49 [==============================] - 0s 4ms/step - loss: 0.0041 - val_loss: 0.0039\n",
      "Epoch 58/100\n",
      "49/49 [==============================] - 0s 4ms/step - loss: 0.0041 - val_loss: 0.0035\n",
      "Epoch 59/100\n",
      "49/49 [==============================] - 0s 5ms/step - loss: 0.0042 - val_loss: 0.0036\n",
      "Epoch 60/100\n",
      "49/49 [==============================] - 0s 4ms/step - loss: 0.0041 - val_loss: 0.0036\n",
      "Epoch 61/100\n",
      "49/49 [==============================] - 0s 5ms/step - loss: 0.0041 - val_loss: 0.0035\n",
      "Epoch 62/100\n",
      "49/49 [==============================] - 0s 4ms/step - loss: 0.0041 - val_loss: 0.0041\n",
      "Epoch 63/100\n",
      "49/49 [==============================] - 0s 5ms/step - loss: 0.0042 - val_loss: 0.0037\n",
      "Epoch 64/100\n",
      "49/49 [==============================] - 0s 4ms/step - loss: 0.0041 - val_loss: 0.0035\n",
      "Epoch 65/100\n",
      "49/49 [==============================] - 0s 5ms/step - loss: 0.0041 - val_loss: 0.0037\n",
      "Epoch 66/100\n",
      "49/49 [==============================] - 0s 4ms/step - loss: 0.0041 - val_loss: 0.0040\n",
      "Epoch 67/100\n",
      "49/49 [==============================] - 0s 5ms/step - loss: 0.0041 - val_loss: 0.0036\n",
      "Epoch 68/100\n",
      "49/49 [==============================] - 0s 4ms/step - loss: 0.0041 - val_loss: 0.0036\n",
      "Epoch 69/100\n",
      "49/49 [==============================] - 0s 4ms/step - loss: 0.0042 - val_loss: 0.0036\n",
      "Epoch 70/100\n",
      "49/49 [==============================] - 0s 4ms/step - loss: 0.0041 - val_loss: 0.0036\n",
      "Epoch 71/100\n",
      "49/49 [==============================] - 0s 4ms/step - loss: 0.0041 - val_loss: 0.0036\n",
      "Epoch 72/100\n",
      "49/49 [==============================] - 0s 4ms/step - loss: 0.0041 - val_loss: 0.0037\n",
      "Epoch 73/100\n",
      "49/49 [==============================] - 0s 4ms/step - loss: 0.0041 - val_loss: 0.0036\n",
      "Epoch 74/100\n",
      "49/49 [==============================] - 0s 4ms/step - loss: 0.0041 - val_loss: 0.0036\n",
      "Epoch 75/100\n",
      "49/49 [==============================] - 0s 4ms/step - loss: 0.0041 - val_loss: 0.0042\n",
      "Epoch 76/100\n",
      "49/49 [==============================] - 0s 4ms/step - loss: 0.0042 - val_loss: 0.0036\n",
      "Epoch 77/100\n",
      "49/49 [==============================] - 0s 4ms/step - loss: 0.0041 - val_loss: 0.0037\n",
      "Epoch 78/100\n",
      "49/49 [==============================] - 0s 4ms/step - loss: 0.0041 - val_loss: 0.0037\n",
      "Epoch 79/100\n",
      "49/49 [==============================] - 0s 4ms/step - loss: 0.0042 - val_loss: 0.0037\n",
      "Epoch 80/100\n",
      "49/49 [==============================] - 0s 5ms/step - loss: 0.0042 - val_loss: 0.0037\n",
      "Epoch 81/100\n",
      "49/49 [==============================] - 0s 4ms/step - loss: 0.0041 - val_loss: 0.0036\n",
      "Epoch 82/100\n",
      "49/49 [==============================] - 0s 4ms/step - loss: 0.0041 - val_loss: 0.0036\n",
      "Epoch 83/100\n",
      "49/49 [==============================] - 0s 4ms/step - loss: 0.0041 - val_loss: 0.0036\n",
      "Epoch 84/100\n",
      "49/49 [==============================] - 0s 4ms/step - loss: 0.0041 - val_loss: 0.0036\n",
      "Epoch 85/100\n",
      "49/49 [==============================] - 0s 4ms/step - loss: 0.0041 - val_loss: 0.0036\n",
      "Epoch 86/100\n",
      "49/49 [==============================] - 0s 4ms/step - loss: 0.0041 - val_loss: 0.0036\n",
      "Epoch 87/100\n",
      "49/49 [==============================] - 0s 4ms/step - loss: 0.0041 - val_loss: 0.0037\n",
      "Epoch 88/100\n",
      "49/49 [==============================] - 0s 4ms/step - loss: 0.0041 - val_loss: 0.0036\n",
      "Epoch 89/100\n",
      "49/49 [==============================] - 0s 4ms/step - loss: 0.0042 - val_loss: 0.0037\n",
      "Epoch 90/100\n",
      "49/49 [==============================] - 0s 4ms/step - loss: 0.0041 - val_loss: 0.0036\n",
      "Epoch 91/100\n",
      "49/49 [==============================] - 0s 4ms/step - loss: 0.0041 - val_loss: 0.0038\n",
      "Epoch 92/100\n",
      "49/49 [==============================] - 0s 4ms/step - loss: 0.0041 - val_loss: 0.0037\n",
      "Epoch 93/100\n",
      "49/49 [==============================] - 0s 4ms/step - loss: 0.0042 - val_loss: 0.0038\n",
      "Epoch 94/100\n",
      "49/49 [==============================] - 0s 4ms/step - loss: 0.0041 - val_loss: 0.0036\n",
      "Epoch 95/100\n",
      "49/49 [==============================] - 0s 4ms/step - loss: 0.0041 - val_loss: 0.0036\n",
      "Epoch 96/100\n",
      "49/49 [==============================] - 0s 4ms/step - loss: 0.0041 - val_loss: 0.0036\n",
      "Epoch 97/100\n",
      "49/49 [==============================] - 0s 4ms/step - loss: 0.0042 - val_loss: 0.0038\n",
      "Epoch 98/100\n",
      "49/49 [==============================] - 0s 4ms/step - loss: 0.0041 - val_loss: 0.0036\n",
      "Epoch 99/100\n",
      "49/49 [==============================] - 0s 4ms/step - loss: 0.0041 - val_loss: 0.0036\n",
      "Epoch 100/100\n",
      "49/49 [==============================] - 0s 4ms/step - loss: 0.0041 - val_loss: 0.0037\n",
      "7/7 [==============================] - 0s 2ms/step - loss: 0.0026\n",
      "Test loss: 0.0026323061902076006\n",
      "7/7 [==============================] - 1s 2ms/step\n"
     ]
    }
   ],
   "source": [
    "import numpy as np\n",
    "import pandas as pd\n",
    "from sklearn.preprocessing import MinMaxScaler\n",
    "from keras.models import Sequential\n",
    "from keras.layers import LSTM, Dense\n",
    "\n",
    "# Assuming 'df' is your DataFrame with 'Date' as the index\n",
    "\n",
    "# Preprocess the data\n",
    "scaler = MinMaxScaler(feature_range=(0, 1))\n",
    "scaled_data = scaler.fit_transform(df)  # Scale all data including 'Residual'\n",
    "\n",
    "# Create sequences\n",
    "def create_sequences(data, sequence_length):\n",
    "    xs, ys = [], []\n",
    "    for i in range(len(data) - sequence_length):\n",
    "        x = data[i:(i + sequence_length), :]\n",
    "        y = data[i + sequence_length, -1]  # 'Residual' at the next time step\n",
    "        xs.append(x)\n",
    "        ys.append(y)\n",
    "    return np.array(xs), np.array(ys)\n",
    "\n",
    "sequence_length = 5  # Number of days in a sequence\n",
    "X, y = create_sequences(scaled_data, sequence_length)\n",
    "\n",
    "# Split the data into training, validation, and testing sets\n",
    "train_size = int(len(X) * 0.7)\n",
    "val_size = int(len(X) * 0.2)\n",
    "test_size = len(X) - train_size - val_size\n",
    "\n",
    "X_train, X_temp, y_train, y_temp = X[:train_size], X[train_size:], y[:train_size], y[train_size:]\n",
    "X_val, X_test, y_val, y_test = X_temp[:val_size], X_temp[val_size:], y_temp[:val_size], y_temp[val_size:]\n",
    "\n",
    "# Build the LSTM model\n",
    "model = Sequential()\n",
    "model.add(LSTM(units=50, return_sequences=True, input_shape=(X_train.shape[1], X_train.shape[2])))\n",
    "model.add(LSTM(units=50))\n",
    "model.add(Dense(units=1))\n",
    "\n",
    "# Compile and train the model\n",
    "model.compile(optimizer='adam', loss='mean_squared_error')\n",
    "model.fit(X_train, y_train, validation_data=(X_val, y_val), epochs=100, batch_size=32)\n",
    "\n",
    "# Evaluate the model on the test set\n",
    "loss = model.evaluate(X_test, y_test)\n",
    "print(f'Test loss: {loss}')\n",
    "\n",
    "# Predict on the test set\n",
    "predicted_residual = model.predict(X_test)\n",
    "# Inverse scale the predictions if necessary\n"
   ]
  },
  {
   "cell_type": "code",
   "execution_count": 83,
   "metadata": {},
   "outputs": [
    {
     "name": "stdout",
     "output_type": "stream",
     "text": [
      "Epoch 1/100\n",
      "49/49 [==============================] - 4s 20ms/step - loss: 0.0250 - val_loss: 0.0131\n",
      "Epoch 2/100\n",
      "49/49 [==============================] - 0s 5ms/step - loss: 0.0087 - val_loss: 0.0128\n",
      "Epoch 3/100\n",
      "49/49 [==============================] - 0s 5ms/step - loss: 0.0088 - val_loss: 0.0126\n",
      "Epoch 4/100\n",
      "49/49 [==============================] - 0s 5ms/step - loss: 0.0087 - val_loss: 0.0125\n",
      "Epoch 5/100\n",
      "49/49 [==============================] - 0s 5ms/step - loss: 0.0087 - val_loss: 0.0125\n",
      "Epoch 6/100\n",
      "49/49 [==============================] - 0s 5ms/step - loss: 0.0089 - val_loss: 0.0130\n",
      "Epoch 7/100\n",
      "49/49 [==============================] - 0s 5ms/step - loss: 0.0087 - val_loss: 0.0123\n",
      "Epoch 8/100\n",
      "49/49 [==============================] - 0s 5ms/step - loss: 0.0087 - val_loss: 0.0127\n",
      "Epoch 9/100\n",
      "49/49 [==============================] - 0s 5ms/step - loss: 0.0085 - val_loss: 0.0125\n",
      "Epoch 10/100\n",
      "49/49 [==============================] - 0s 5ms/step - loss: 0.0090 - val_loss: 0.0126\n",
      "Epoch 11/100\n",
      "49/49 [==============================] - 0s 5ms/step - loss: 0.0087 - val_loss: 0.0123\n",
      "Epoch 12/100\n",
      "49/49 [==============================] - 0s 5ms/step - loss: 0.0086 - val_loss: 0.0123\n",
      "Epoch 13/100\n",
      "49/49 [==============================] - 0s 5ms/step - loss: 0.0088 - val_loss: 0.0122\n",
      "Epoch 14/100\n",
      "49/49 [==============================] - 0s 5ms/step - loss: 0.0086 - val_loss: 0.0123\n",
      "Epoch 15/100\n",
      "49/49 [==============================] - 0s 5ms/step - loss: 0.0085 - val_loss: 0.0122\n",
      "Epoch 16/100\n",
      "49/49 [==============================] - 0s 5ms/step - loss: 0.0086 - val_loss: 0.0123\n",
      "Epoch 17/100\n",
      "49/49 [==============================] - 0s 5ms/step - loss: 0.0087 - val_loss: 0.0123\n",
      "Epoch 18/100\n",
      "49/49 [==============================] - 0s 5ms/step - loss: 0.0086 - val_loss: 0.0124\n",
      "Epoch 19/100\n",
      "49/49 [==============================] - 0s 5ms/step - loss: 0.0085 - val_loss: 0.0122\n",
      "Epoch 20/100\n",
      "49/49 [==============================] - 0s 5ms/step - loss: 0.0086 - val_loss: 0.0128\n",
      "Epoch 21/100\n",
      "49/49 [==============================] - 0s 5ms/step - loss: 0.0087 - val_loss: 0.0123\n",
      "Epoch 22/100\n",
      "49/49 [==============================] - 0s 5ms/step - loss: 0.0084 - val_loss: 0.0121\n",
      "Epoch 23/100\n",
      "49/49 [==============================] - 0s 5ms/step - loss: 0.0086 - val_loss: 0.0121\n",
      "Epoch 24/100\n",
      "49/49 [==============================] - 0s 5ms/step - loss: 0.0085 - val_loss: 0.0126\n",
      "Epoch 25/100\n",
      "49/49 [==============================] - 0s 5ms/step - loss: 0.0086 - val_loss: 0.0128\n",
      "Epoch 26/100\n",
      "49/49 [==============================] - 0s 5ms/step - loss: 0.0085 - val_loss: 0.0121\n",
      "Epoch 27/100\n",
      "49/49 [==============================] - 0s 5ms/step - loss: 0.0086 - val_loss: 0.0123\n",
      "Epoch 28/100\n",
      "49/49 [==============================] - 0s 5ms/step - loss: 0.0085 - val_loss: 0.0121\n",
      "Epoch 29/100\n",
      "49/49 [==============================] - 0s 5ms/step - loss: 0.0083 - val_loss: 0.0123\n",
      "Epoch 30/100\n",
      "49/49 [==============================] - 0s 5ms/step - loss: 0.0087 - val_loss: 0.0124\n",
      "Epoch 31/100\n",
      "49/49 [==============================] - 0s 5ms/step - loss: 0.0084 - val_loss: 0.0122\n",
      "Epoch 32/100\n",
      "49/49 [==============================] - 0s 5ms/step - loss: 0.0085 - val_loss: 0.0120\n",
      "Epoch 33/100\n",
      "49/49 [==============================] - 0s 5ms/step - loss: 0.0085 - val_loss: 0.0121\n",
      "Epoch 34/100\n",
      "49/49 [==============================] - 0s 5ms/step - loss: 0.0085 - val_loss: 0.0120\n",
      "Epoch 35/100\n",
      "49/49 [==============================] - 0s 5ms/step - loss: 0.0085 - val_loss: 0.0123\n",
      "Epoch 36/100\n",
      "49/49 [==============================] - 0s 5ms/step - loss: 0.0084 - val_loss: 0.0120\n",
      "Epoch 37/100\n",
      "49/49 [==============================] - 0s 5ms/step - loss: 0.0084 - val_loss: 0.0121\n",
      "Epoch 38/100\n",
      "49/49 [==============================] - 0s 5ms/step - loss: 0.0083 - val_loss: 0.0124\n",
      "Epoch 39/100\n",
      "49/49 [==============================] - 0s 5ms/step - loss: 0.0082 - val_loss: 0.0127\n",
      "Epoch 40/100\n",
      "49/49 [==============================] - 0s 5ms/step - loss: 0.0084 - val_loss: 0.0120\n",
      "Epoch 41/100\n",
      "49/49 [==============================] - 0s 5ms/step - loss: 0.0083 - val_loss: 0.0128\n",
      "Epoch 42/100\n",
      "49/49 [==============================] - 0s 5ms/step - loss: 0.0084 - val_loss: 0.0124\n",
      "Epoch 43/100\n",
      "49/49 [==============================] - 0s 5ms/step - loss: 0.0082 - val_loss: 0.0121\n",
      "Epoch 44/100\n",
      "49/49 [==============================] - 0s 5ms/step - loss: 0.0082 - val_loss: 0.0122\n",
      "Epoch 45/100\n",
      "49/49 [==============================] - 0s 5ms/step - loss: 0.0083 - val_loss: 0.0131\n",
      "Epoch 46/100\n",
      "49/49 [==============================] - 0s 5ms/step - loss: 0.0083 - val_loss: 0.0122\n",
      "Epoch 47/100\n",
      "49/49 [==============================] - 0s 5ms/step - loss: 0.0082 - val_loss: 0.0122\n",
      "Epoch 48/100\n",
      "49/49 [==============================] - 0s 5ms/step - loss: 0.0083 - val_loss: 0.0124\n",
      "Epoch 49/100\n",
      "49/49 [==============================] - 0s 5ms/step - loss: 0.0081 - val_loss: 0.0122\n",
      "Epoch 50/100\n",
      "49/49 [==============================] - 0s 5ms/step - loss: 0.0082 - val_loss: 0.0123\n",
      "Epoch 51/100\n",
      "49/49 [==============================] - 0s 5ms/step - loss: 0.0083 - val_loss: 0.0124\n",
      "Epoch 52/100\n",
      "49/49 [==============================] - 0s 5ms/step - loss: 0.0082 - val_loss: 0.0124\n",
      "Epoch 53/100\n",
      "49/49 [==============================] - 0s 5ms/step - loss: 0.0083 - val_loss: 0.0123\n",
      "Epoch 54/100\n",
      "49/49 [==============================] - 0s 5ms/step - loss: 0.0083 - val_loss: 0.0126\n",
      "Epoch 55/100\n",
      "49/49 [==============================] - 0s 5ms/step - loss: 0.0082 - val_loss: 0.0124\n",
      "Epoch 56/100\n",
      "49/49 [==============================] - 0s 5ms/step - loss: 0.0081 - val_loss: 0.0124\n",
      "Epoch 57/100\n",
      "49/49 [==============================] - 0s 5ms/step - loss: 0.0082 - val_loss: 0.0126\n",
      "Epoch 58/100\n",
      "49/49 [==============================] - 0s 5ms/step - loss: 0.0083 - val_loss: 0.0123\n",
      "Epoch 59/100\n",
      "49/49 [==============================] - 0s 5ms/step - loss: 0.0080 - val_loss: 0.0124\n",
      "Epoch 60/100\n",
      "49/49 [==============================] - 0s 5ms/step - loss: 0.0081 - val_loss: 0.0125\n",
      "Epoch 61/100\n",
      "49/49 [==============================] - 0s 5ms/step - loss: 0.0081 - val_loss: 0.0126\n",
      "Epoch 62/100\n",
      "49/49 [==============================] - 0s 5ms/step - loss: 0.0081 - val_loss: 0.0124\n",
      "Epoch 63/100\n",
      "49/49 [==============================] - 0s 5ms/step - loss: 0.0081 - val_loss: 0.0124\n",
      "Epoch 64/100\n",
      "49/49 [==============================] - 0s 5ms/step - loss: 0.0081 - val_loss: 0.0128\n",
      "Epoch 65/100\n",
      "49/49 [==============================] - 0s 5ms/step - loss: 0.0083 - val_loss: 0.0124\n",
      "Epoch 66/100\n",
      "49/49 [==============================] - 0s 5ms/step - loss: 0.0081 - val_loss: 0.0129\n",
      "Epoch 67/100\n",
      "49/49 [==============================] - 0s 5ms/step - loss: 0.0081 - val_loss: 0.0125\n",
      "Epoch 68/100\n",
      "49/49 [==============================] - 0s 5ms/step - loss: 0.0082 - val_loss: 0.0125\n",
      "Epoch 69/100\n",
      "49/49 [==============================] - 0s 5ms/step - loss: 0.0081 - val_loss: 0.0125\n",
      "Epoch 70/100\n",
      "49/49 [==============================] - 0s 5ms/step - loss: 0.0081 - val_loss: 0.0127\n",
      "Epoch 71/100\n",
      "49/49 [==============================] - 0s 5ms/step - loss: 0.0081 - val_loss: 0.0125\n",
      "Epoch 72/100\n",
      "49/49 [==============================] - 0s 5ms/step - loss: 0.0081 - val_loss: 0.0126\n",
      "Epoch 73/100\n",
      "49/49 [==============================] - 0s 5ms/step - loss: 0.0081 - val_loss: 0.0125\n",
      "Epoch 74/100\n",
      "49/49 [==============================] - 0s 5ms/step - loss: 0.0081 - val_loss: 0.0125\n",
      "Epoch 75/100\n",
      "49/49 [==============================] - 0s 5ms/step - loss: 0.0082 - val_loss: 0.0124\n",
      "Epoch 76/100\n",
      "49/49 [==============================] - 0s 5ms/step - loss: 0.0082 - val_loss: 0.0125\n",
      "Epoch 77/100\n",
      "49/49 [==============================] - 0s 5ms/step - loss: 0.0081 - val_loss: 0.0125\n",
      "Epoch 78/100\n",
      "49/49 [==============================] - 0s 5ms/step - loss: 0.0083 - val_loss: 0.0126\n",
      "Epoch 79/100\n",
      "49/49 [==============================] - 0s 5ms/step - loss: 0.0082 - val_loss: 0.0125\n",
      "Epoch 80/100\n",
      "49/49 [==============================] - 0s 5ms/step - loss: 0.0080 - val_loss: 0.0126\n",
      "Epoch 81/100\n",
      "49/49 [==============================] - 0s 5ms/step - loss: 0.0081 - val_loss: 0.0126\n",
      "Epoch 82/100\n",
      "49/49 [==============================] - 0s 5ms/step - loss: 0.0081 - val_loss: 0.0125\n",
      "Epoch 83/100\n",
      "49/49 [==============================] - 0s 5ms/step - loss: 0.0082 - val_loss: 0.0125\n",
      "Epoch 84/100\n",
      "49/49 [==============================] - 0s 5ms/step - loss: 0.0081 - val_loss: 0.0125\n",
      "Epoch 85/100\n",
      "49/49 [==============================] - 0s 5ms/step - loss: 0.0081 - val_loss: 0.0126\n",
      "Epoch 86/100\n",
      "49/49 [==============================] - 0s 5ms/step - loss: 0.0081 - val_loss: 0.0127\n",
      "Epoch 87/100\n",
      "49/49 [==============================] - 0s 5ms/step - loss: 0.0081 - val_loss: 0.0127\n",
      "Epoch 88/100\n",
      "49/49 [==============================] - 0s 5ms/step - loss: 0.0081 - val_loss: 0.0125\n",
      "Epoch 89/100\n",
      "49/49 [==============================] - 0s 5ms/step - loss: 0.0082 - val_loss: 0.0125\n",
      "Epoch 90/100\n",
      "49/49 [==============================] - 0s 5ms/step - loss: 0.0081 - val_loss: 0.0125\n",
      "Epoch 91/100\n",
      "49/49 [==============================] - 0s 5ms/step - loss: 0.0082 - val_loss: 0.0125\n",
      "Epoch 92/100\n",
      "49/49 [==============================] - 0s 5ms/step - loss: 0.0081 - val_loss: 0.0127\n",
      "Epoch 93/100\n",
      "49/49 [==============================] - 0s 5ms/step - loss: 0.0081 - val_loss: 0.0126\n",
      "Epoch 94/100\n",
      "49/49 [==============================] - 0s 5ms/step - loss: 0.0080 - val_loss: 0.0126\n",
      "Epoch 95/100\n",
      "49/49 [==============================] - 0s 5ms/step - loss: 0.0080 - val_loss: 0.0125\n",
      "Epoch 96/100\n",
      "49/49 [==============================] - 0s 5ms/step - loss: 0.0080 - val_loss: 0.0126\n",
      "Epoch 97/100\n",
      "49/49 [==============================] - 0s 5ms/step - loss: 0.0082 - val_loss: 0.0125\n",
      "Epoch 98/100\n",
      "49/49 [==============================] - 0s 5ms/step - loss: 0.0080 - val_loss: 0.0126\n",
      "Epoch 99/100\n",
      "49/49 [==============================] - 0s 5ms/step - loss: 0.0080 - val_loss: 0.0130\n",
      "Epoch 100/100\n",
      "49/49 [==============================] - 0s 5ms/step - loss: 0.0081 - val_loss: 0.0130\n",
      "7/7 [==============================] - 0s 3ms/step - loss: 0.0096\n",
      "Test loss: 0.009578000754117966\n",
      "7/7 [==============================] - 1s 3ms/step\n"
     ]
    }
   ],
   "source": [
    "df = dfs[4]\n",
    "import numpy as np\n",
    "import pandas as pd\n",
    "from sklearn.preprocessing import MinMaxScaler\n",
    "from keras.models import Sequential\n",
    "from keras.layers import LSTM, Dense\n",
    "from sklearn.model_selection import train_test_split\n",
    "\n",
    "# Assuming 'df' is your DataFrame with 'Date' as the index\n",
    "\n",
    "# Extracting only the 'Residual' column\n",
    "residual_data = df[['Residual']].values\n",
    "\n",
    "# Scaling the data\n",
    "scaler = MinMaxScaler(feature_range=(0, 1))\n",
    "scaled_residual_data = scaler.fit_transform(residual_data)\n",
    "\n",
    "# Creating sequences\n",
    "def create_sequences(data, sequence_length):\n",
    "    xs, ys = [], []\n",
    "    for i in range(len(data) - sequence_length):\n",
    "        x = data[i:(i + sequence_length)]\n",
    "        y = data[i + sequence_length]\n",
    "        xs.append(x)\n",
    "        ys.append(y)\n",
    "    return np.array(xs), np.array(ys)\n",
    "\n",
    "sequence_length = 30  # Number of time steps in a sequence\n",
    "X, y = create_sequences(scaled_residual_data, sequence_length)\n",
    "\n",
    "# Splitting the data into training, validation, and testing sets\n",
    "train_size = int(len(X) * 0.7)\n",
    "val_size = int(len(X) * 0.2)\n",
    "test_size = len(X) - train_size - val_size\n",
    "\n",
    "X_train, X_temp, y_train, y_temp = X[:train_size], X[train_size:], y[:train_size], y[train_size:]\n",
    "X_val, X_test, y_val, y_test = X_temp[:val_size], X_temp[val_size:], y_temp[:val_size], y_temp[val_size:]\n",
    "\n",
    "# Building the LSTM model\n",
    "model = Sequential()\n",
    "model.add(LSTM(units=50, return_sequences=True, input_shape=(X_train.shape[1], 1)))\n",
    "model.add(LSTM(units=50))\n",
    "model.add(Dense(units=1))\n",
    "\n",
    "# Compiling and training the model\n",
    "model.compile(optimizer='adam', loss='mean_squared_error')\n",
    "model.fit(X_train, y_train, validation_data=(X_val, y_val), epochs=100, batch_size=32)\n",
    "\n",
    "# Evaluating the model on the test set\n",
    "loss = model.evaluate(X_test, y_test)\n",
    "print(f'Test loss: {loss}')\n",
    "\n",
    "# Predicting on the test set\n",
    "predicted_residual = model.predict(X_test)\n",
    "# Inverse scaling the predictions if necessary\n"
   ]
  },
  {
   "cell_type": "code",
   "execution_count": 84,
   "metadata": {},
   "outputs": [
    {
     "data": {
      "text/plain": [
       "<matplotlib.legend.Legend at 0x7f3abf553d90>"
      ]
     },
     "execution_count": 84,
     "metadata": {},
     "output_type": "execute_result"
    },
    {
     "data": {
      "image/png": "[encoded data removed]",
      "text/plain": [
       "<Figure size 640x480 with 1 Axes>"
      ]
     },
     "metadata": {},
     "output_type": "display_data"
    }
   ],
   "source": [
    "# plot out the predicted residual and actual residual\n",
    "import matplotlib.pyplot as plt\n",
    "plt.plot(predicted_residual, label='predicted')\n",
    "plt.plot(y_test, label='actual')\n",
    "plt.legend()"
   ]
  },
  {
   "cell_type": "code",
   "execution_count": 89,
   "metadata": {},
   "outputs": [
    {
     "data": {
      "text/plain": [
       "[<matplotlib.lines.Line2D at 0x7f3abf54e1f0>]"
      ]
     },
     "execution_count": 89,
     "metadata": {},
     "output_type": "execute_result"
    },
    {
     "data": {
      "image/png": "[encoded data removed]",
      "text/plain": [
       "<Figure size 640x480 with 1 Axes>"
      ]
     },
     "metadata": {},
     "output_type": "display_data"
    }
   ],
   "source": [
    "# plot out the data residual\n",
    "plt.plot(df['Residual'])"
   ]
  },
  {
   "cell_type": "code",
   "execution_count": 85,
   "metadata": {},
   "outputs": [
    {
     "data": {
      "text/plain": [
       "0.07530370098466642"
      ]
     },
     "execution_count": 85,
     "metadata": {},
     "output_type": "execute_result"
    }
   ],
   "source": [
    "# get MAE\n",
    "from sklearn.metrics import mean_absolute_error\n",
    "mean_absolute_error(y_test, predicted_residual)\n"
   ]
  },
  {
   "cell_type": "code",
   "execution_count": 93,
   "metadata": {},
   "outputs": [
    {
     "data": {
      "text/plain": [
       "0.07206658484329545"
      ]
     },
     "execution_count": 93,
     "metadata": {},
     "output_type": "execute_result"
    }
   ],
   "source": [
    "# test against mean residual\n",
    "# get MAE\n",
    "\n",
    "mean_absolute_error(y_test, np.full(y_test.shape,.43))"
   ]
  }
 ],
 "metadata": {
  "kernelspec": {
   "display_name": "myenv",
   "language": "python",
   "name": "python3"
  },
  "language_info": {
   "codemirror_mode": {
    "name": "ipython",
    "version": 3
   },
   "file_extension": ".py",
   "mimetype": "text/x-python",
   "name": "python",
   "nbconvert_exporter": "python",
   "pygments_lexer": "ipython3",
   "version": "3.9.18"
  }
 },
 "nbformat": 4,
 "nbformat_minor": 2
}
